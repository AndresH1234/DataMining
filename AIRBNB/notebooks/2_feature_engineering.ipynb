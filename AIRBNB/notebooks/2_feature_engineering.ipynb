{
 "cells": [
  {
   "cell_type": "markdown",
   "metadata": {},
   "source": [
    "### Feature Engineering"
   ]
  },
  {
   "cell_type": "code",
   "execution_count": 249,
   "metadata": {},
   "outputs": [],
   "source": [
    "import pandas as pd"
   ]
  },
  {
   "cell_type": "code",
   "execution_count": 250,
   "metadata": {},
   "outputs": [],
   "source": [
    "df = pd.read_csv('../data/processed/Airbnb_Data.csv')"
   ]
  },
  {
   "cell_type": "code",
   "execution_count": 251,
   "metadata": {},
   "outputs": [
    {
     "data": {
      "text/plain": [
       "Index(['log_price', 'property_type', 'room_type', 'amenities', 'accommodates',\n",
       "       'bathrooms', 'bed_type', 'cancellation_policy', 'cleaning_fee', 'city',\n",
       "       'host_has_profile_pic', 'host_identity_verified', 'host_response_rate',\n",
       "       'instant_bookable', 'latitude', 'longitude', 'number_of_reviews',\n",
       "       'review_scores_rating', 'bedrooms', 'beds'],\n",
       "      dtype='object')"
      ]
     },
     "execution_count": 251,
     "metadata": {},
     "output_type": "execute_result"
    }
   ],
   "source": [
    "df.columns"
   ]
  },
  {
   "cell_type": "code",
   "execution_count": 252,
   "metadata": {},
   "outputs": [
    {
     "name": "stdout",
     "output_type": "stream",
     "text": [
      "<class 'pandas.core.frame.DataFrame'>\n",
      "RangeIndex: 74111 entries, 0 to 74110\n",
      "Data columns (total 20 columns):\n",
      " #   Column                  Non-Null Count  Dtype  \n",
      "---  ------                  --------------  -----  \n",
      " 0   log_price               74111 non-null  float64\n",
      " 1   property_type           74111 non-null  object \n",
      " 2   room_type               74111 non-null  object \n",
      " 3   amenities               74111 non-null  object \n",
      " 4   accommodates            74111 non-null  int64  \n",
      " 5   bathrooms               74111 non-null  float64\n",
      " 6   bed_type                74111 non-null  object \n",
      " 7   cancellation_policy     74111 non-null  object \n",
      " 8   cleaning_fee            74111 non-null  bool   \n",
      " 9   city                    74111 non-null  object \n",
      " 10  host_has_profile_pic    74111 non-null  object \n",
      " 11  host_identity_verified  74111 non-null  object \n",
      " 12  host_response_rate      74111 non-null  float64\n",
      " 13  instant_bookable        74111 non-null  bool   \n",
      " 14  latitude                74111 non-null  float64\n",
      " 15  longitude               74111 non-null  float64\n",
      " 16  number_of_reviews       74111 non-null  int64  \n",
      " 17  review_scores_rating    74111 non-null  float64\n",
      " 18  bedrooms                74111 non-null  int64  \n",
      " 19  beds                    74111 non-null  int64  \n",
      "dtypes: bool(2), float64(6), int64(4), object(8)\n",
      "memory usage: 10.3+ MB\n"
     ]
    }
   ],
   "source": [
    "df.info()"
   ]
  },
  {
   "cell_type": "markdown",
   "metadata": {},
   "source": [
    "## One-Hot Encoding "
   ]
  },
  {
   "cell_type": "code",
   "execution_count": 253,
   "metadata": {},
   "outputs": [],
   "source": [
    "df = pd.get_dummies(df, columns=['property_type'], drop_first=True)"
   ]
  },
  {
   "cell_type": "code",
   "execution_count": 254,
   "metadata": {},
   "outputs": [],
   "source": [
    "df = pd.get_dummies(df, columns=['room_type'], drop_first=True)"
   ]
  },
  {
   "cell_type": "code",
   "execution_count": 255,
   "metadata": {},
   "outputs": [],
   "source": [
    "df = pd.get_dummies(df, columns=['bed_type'], drop_first=True)"
   ]
  },
  {
   "cell_type": "code",
   "execution_count": 256,
   "metadata": {},
   "outputs": [],
   "source": [
    "df = pd.get_dummies(df, columns=['cancellation_policy'], drop_first=True)"
   ]
  },
  {
   "cell_type": "code",
   "execution_count": 257,
   "metadata": {},
   "outputs": [],
   "source": [
    "df = pd.get_dummies(df, columns=['city'], drop_first=True)"
   ]
  },
  {
   "cell_type": "code",
   "execution_count": 258,
   "metadata": {},
   "outputs": [
    {
     "data": {
      "text/plain": [
       "Index(['log_price', 'amenities', 'accommodates', 'bathrooms', 'cleaning_fee',\n",
       "       'host_has_profile_pic', 'host_identity_verified', 'host_response_rate',\n",
       "       'instant_bookable', 'latitude', 'longitude', 'number_of_reviews',\n",
       "       'review_scores_rating', 'bedrooms', 'beds',\n",
       "       'property_type_Bed & Breakfast', 'property_type_Boat',\n",
       "       'property_type_Boutique hotel', 'property_type_Bungalow',\n",
       "       'property_type_Cabin', 'property_type_Camper/RV',\n",
       "       'property_type_Casa particular', 'property_type_Castle',\n",
       "       'property_type_Cave', 'property_type_Chalet',\n",
       "       'property_type_Condominium', 'property_type_Dorm',\n",
       "       'property_type_Earth House', 'property_type_Guest suite',\n",
       "       'property_type_Guesthouse', 'property_type_Hostel',\n",
       "       'property_type_House', 'property_type_Hut', 'property_type_In-law',\n",
       "       'property_type_Island', 'property_type_Lighthouse',\n",
       "       'property_type_Loft', 'property_type_Other',\n",
       "       'property_type_Parking Space', 'property_type_Serviced apartment',\n",
       "       'property_type_Tent', 'property_type_Timeshare', 'property_type_Tipi',\n",
       "       'property_type_Townhouse', 'property_type_Train',\n",
       "       'property_type_Treehouse', 'property_type_Vacation home',\n",
       "       'property_type_Villa', 'property_type_Yurt', 'room_type_Private room',\n",
       "       'room_type_Shared room', 'bed_type_Couch', 'bed_type_Futon',\n",
       "       'bed_type_Pull-out Sofa', 'bed_type_Real Bed',\n",
       "       'cancellation_policy_moderate', 'cancellation_policy_strict',\n",
       "       'cancellation_policy_super_strict_30',\n",
       "       'cancellation_policy_super_strict_60', 'city_Chicago', 'city_DC',\n",
       "       'city_LA', 'city_NYC', 'city_SF'],\n",
       "      dtype='object')"
      ]
     },
     "execution_count": 258,
     "metadata": {},
     "output_type": "execute_result"
    }
   ],
   "source": [
    "df.columns"
   ]
  },
  {
   "cell_type": "markdown",
   "metadata": {},
   "source": [
    "## Label Enconding"
   ]
  },
  {
   "cell_type": "code",
   "execution_count": 259,
   "metadata": {},
   "outputs": [],
   "source": [
    "# Pasar a 0 y 1 \n",
    "df['host_has_profile_pic'] = df['host_has_profile_pic'].map({'t': 1, 'f': 0, '-1': -1})"
   ]
  },
  {
   "cell_type": "code",
   "execution_count": 260,
   "metadata": {},
   "outputs": [],
   "source": [
    "df['host_identity_verified'] = df['host_identity_verified'].map({'t': 1, 'f': 0, '-1': -1})"
   ]
  },
  {
   "cell_type": "code",
   "execution_count": 261,
   "metadata": {},
   "outputs": [],
   "source": [
    "df['cleaning_fee'] = df['cleaning_fee'].map({True: 1, False: 0})"
   ]
  },
  {
   "cell_type": "code",
   "execution_count": 262,
   "metadata": {},
   "outputs": [],
   "source": [
    "df['instant_bookable'] = df['instant_bookable'].map({True: 1, False: 0})"
   ]
  },
  {
   "cell_type": "code",
   "execution_count": 263,
   "metadata": {},
   "outputs": [
    {
     "name": "stdout",
     "output_type": "stream",
     "text": [
      "host_has_profile_pic\n",
      " 1    73697\n",
      " 0      226\n",
      "-1      188\n",
      "Name: count, dtype: int64\n",
      "host_identity_verified\n",
      " 1    49748\n",
      " 0    24175\n",
      "-1      188\n",
      "Name: count, dtype: int64\n",
      "cleaning_fee\n",
      "1    54403\n",
      "0    19708\n",
      "Name: count, dtype: int64\n",
      "instant_bookable\n",
      "0    54660\n",
      "1    19451\n",
      "Name: count, dtype: int64\n"
     ]
    }
   ],
   "source": [
    "print(df['host_has_profile_pic'].value_counts())\n",
    "print(df['host_identity_verified'].value_counts())\n",
    "print(df['cleaning_fee'].value_counts())\n",
    "print(df['instant_bookable'].value_counts())"
   ]
  },
  {
   "cell_type": "markdown",
   "metadata": {},
   "source": [
    "## Extracción de datos"
   ]
  },
  {
   "cell_type": "code",
   "execution_count": 264,
   "metadata": {},
   "outputs": [],
   "source": [
    "import re\n",
    "from sklearn.preprocessing import MultiLabelBinarizer\n",
    "def limpiar_amenities(amenities):\n",
    "    if pd.isna(amenities) or amenities.strip() == \"\":\n",
    "        return \"\"\n",
    "    \n",
    "    # Eliminar llaves y comillas\n",
    "    amenities = re.sub(r'[{}\"]', '', amenities)\n",
    "\n",
    "    # Reemplazar valores extraños\n",
    "    amenities = re.sub(r'translation missing: en\\.(hosting_amenity_\\d+)', r'\\1', amenities)\n",
    "\n",
    "    # Eliminar dobles comas\n",
    "    amenities = re.sub(r',\\s*,', ',', amenities).strip(',')\n",
    "\n",
    "    # Eliminar espacios extra\n",
    "    amenities = re.sub(r'\\s+', ' ', amenities)\n",
    "\n",
    "    # Eliminar valores vacios\n",
    "    amenities = ','.join([amenity for amenity in amenities.split(',') if amenity.strip() != \"\"])\n",
    "\n",
    "    return amenities"
   ]
  },
  {
   "cell_type": "code",
   "execution_count": 265,
   "metadata": {},
   "outputs": [],
   "source": [
    "df['clean_amenities'] = df['amenities'].apply(limpiar_amenities)"
   ]
  },
  {
   "cell_type": "code",
   "execution_count": 266,
   "metadata": {},
   "outputs": [
    {
     "data": {
      "text/plain": [
       "array(['Wireless Internet,Air conditioning,Kitchen,Heating,Family/kid friendly,Essentials,Hair dryer,Iron,hosting_amenity_50',\n",
       "       'Wireless Internet,Air conditioning,Kitchen,Heating,Family/kid friendly,Washer,Dryer,Smoke detector,Fire extinguisher,Essentials,Shampoo,Hangers,Hair dryer,Iron,hosting_amenity_50',\n",
       "       'TV,Cable TV,Wireless Internet,Air conditioning,Kitchen,Breakfast,Buzzer/wireless intercom,Heating,Family/kid friendly,Smoke detector,Carbon monoxide detector,Fire extinguisher,Essentials,Shampoo,Hangers,Hair dryer,Iron,Laptop friendly workspace,hosting_amenity_50',\n",
       "       ...,\n",
       "       'TV,Cable TV,Internet,Wireless Internet,Kitchen,Free parking on premises,Heating,Family/kid friendly,Washer,Dryer,Smoke detector,Essentials,Shampoo,Hangers,Hair dryer,hosting_amenity_50',\n",
       "       'TV,Internet,Wireless Internet,Air conditioning,Kitchen,Gym,Elevator,Buzzer/wireless intercom,Heating,Family/kid friendly,Washer,Dryer,Smoke detector,Carbon monoxide detector,First aid kit,Essentials,Shampoo,Hangers,Hair dryer,Iron,Laptop friendly workspace,Hot water,Bed linens,Microwave,Coffee maker,Refrigerator,Dishwasher,Dishes and silverware,Cooking basics,Oven,Stove',\n",
       "       'TV,Internet,Wireless Internet,Kitchen,Free parking on premises,Heating,Family/kid friendly,Smoke detector,Carbon monoxide detector,First aid kit,Safety card,Fire extinguisher,Essentials,Shampoo,24-hour check-in,Hangers,Hair dryer,Laptop friendly workspace'],\n",
       "      dtype=object)"
      ]
     },
     "execution_count": 266,
     "metadata": {},
     "output_type": "execute_result"
    }
   ],
   "source": [
    "df['clean_amenities'].unique()"
   ]
  },
  {
   "cell_type": "code",
   "execution_count": 267,
   "metadata": {},
   "outputs": [],
   "source": [
    "# Contar las amenities\n",
    "df[\"amenities_count\"] = df[\"amenities\"].apply(lambda x: len(x.split(',')))"
   ]
  },
  {
   "cell_type": "code",
   "execution_count": 268,
   "metadata": {},
   "outputs": [],
   "source": [
    "# Convertir las cadenas de texto en listas de amenities\n",
    "df['clean_amenities'] = df['clean_amenities'].apply(lambda x: x.split(','))\n"
   ]
  },
  {
   "cell_type": "code",
   "execution_count": 269,
   "metadata": {},
   "outputs": [],
   "source": [
    "# Inicializar MultiLabelBinarizer\n",
    "mlb = MultiLabelBinarizer()\n",
    "\n",
    "# Aplicar el One-Hot Encoding\n",
    "amenities_encoded = pd.DataFrame(mlb.fit_transform(df['clean_amenities']), columns=mlb.classes_)\n",
    "amenities_encoded = amenities_encoded.loc[:, amenities_encoded.columns != '']\n",
    "amenities_encoded.columns = amenities_encoded.columns.str.strip()\n",
    "\n",
    "# Combinar los valores de ambas columnas, tomando el valor de una si está presente\n",
    "amenities_encoded['Wide clearance to shower and toilet'] = amenities_encoded['Wide clearance to shower and toilet'].fillna(amenities_encoded['Wide clearance to shower & toilet'])\n",
    "\n",
    "# Eliminar la columna redundante\n",
    "amenities_encoded = amenities_encoded.drop(columns=['Wide clearance to shower & toilet'])\n",
    "\n",
    "# Concatenar el DataFrame original con las nuevas columnas One-Hot encoded\n",
    "#df = pd.concat([df, amenities_encoded], axis=1)"
   ]
  },
  {
   "cell_type": "code",
   "execution_count": 270,
   "metadata": {},
   "outputs": [
    {
     "data": {
      "text/plain": [
       "(74111, 129)"
      ]
     },
     "execution_count": 270,
     "metadata": {},
     "output_type": "execute_result"
    }
   ],
   "source": [
    "amenities_encoded.shape"
   ]
  },
  {
   "cell_type": "code",
   "execution_count": 276,
   "metadata": {},
   "outputs": [
    {
     "data": {
      "text/plain": [
       "Index(['smooth pathway to front door', '24-hour check-in',\n",
       "       'Accessible-height bed', 'Accessible-height toilet', 'Air conditioning',\n",
       "       'Air purifier', 'BBQ grill', 'Baby bath', 'Baby monitor',\n",
       "       'Babysitter recommendations',\n",
       "       ...\n",
       "       'Wheelchair accessible', 'Wide clearance to bed',\n",
       "       'Wide clearance to shower and toilet', 'Wide doorway', 'Wide entryway',\n",
       "       'Wide hallway clearance', 'Window guards', 'Wireless Internet',\n",
       "       'hosting_amenity_49', 'hosting_amenity_50'],\n",
       "      dtype='object', length=129)"
      ]
     },
     "execution_count": 276,
     "metadata": {},
     "output_type": "execute_result"
    }
   ],
   "source": [
    "amenities_encoded.columns"
   ]
  },
  {
   "cell_type": "code",
   "execution_count": 310,
   "metadata": {},
   "outputs": [],
   "source": [
    "# Suma de los amenities 'Accessible-height bed', 'Accessible-height toilet', 'Fixed grab bars for shower & toilet', 'Grab-rails for shower and toilet', 'Roll-in shower with chair', 'Wheelchair accessible', 'Wide clearance to bed', 'Wide clearance to shower and toilet', 'Wide doorway', 'Wide entryway', 'Step-free access', 'Wide hallway clearance'\n",
    "df['accessible_amenities'] = amenities_encoded[['Accessible-height bed', 'Accessible-height toilet', 'Fixed grab bars for shower & toilet', 'Grab-rails for shower and toilet', 'Roll-in shower with chair', 'Wheelchair accessible', 'Wide clearance to bed', 'Wide clearance to shower and toilet', 'Wide doorway', 'Wide entryway', 'Step-free access', 'Wide hallway clearance']].sum(axis=1)\n",
    "amenities = {'accessible_amenities': ['Accessible-height bed', 'Accessible-height toilet', 'Fixed grab bars for shower & toilet', 'Grab-rails for shower and toilet', 'Roll-in shower with chair', 'Wheelchair accessible', 'Wide clearance to bed', 'Wide clearance to shower and toilet', 'Wide doorway', 'Wide entryway', 'Step-free access', 'Wide hallway clearance']}"
   ]
  },
  {
   "cell_type": "code",
   "execution_count": 311,
   "metadata": {},
   "outputs": [
    {
     "data": {
      "text/plain": [
       "accessible_amenities\n",
       "0    68288\n",
       "1     5082\n",
       "2      201\n",
       "3      135\n",
       "4      118\n",
       "5      100\n",
       "6       92\n",
       "7       71\n",
       "8       22\n",
       "9        2\n",
       "Name: count, dtype: int64"
      ]
     },
     "execution_count": 311,
     "metadata": {},
     "output_type": "execute_result"
    }
   ],
   "source": [
    "df['accessible_amenities'].value_counts()"
   ]
  },
  {
   "cell_type": "code",
   "execution_count": 312,
   "metadata": {},
   "outputs": [],
   "source": [
    "# suma de las amenities 'Bath towel', 'Bathtub', 'Bathtub with shower chair', 'Body soap', 'Shampoo', 'Hand or paper towel', 'Hand soap', 'Toilet paper', 'Fireplace guards'\n",
    "df['bathroom_amenities'] = amenities_encoded[['Bath towel', 'Bathtub', 'Bathtub with shower chair', 'Body soap', 'Shampoo', 'Hand or paper towel', 'Hand soap', 'Toilet paper', 'Fireplace guards']].sum(axis=1)\n",
    "amenities['bathroom_amenities'] = ['Bath towel', 'Bathtub', 'Bathtub with shower chair', 'Body soap', 'Shampoo', 'Hand or paper towel', 'Hand soap', 'Toilet paper', 'Fireplace guards']"
   ]
  },
  {
   "cell_type": "code",
   "execution_count": 285,
   "metadata": {},
   "outputs": [
    {
     "data": {
      "text/plain": [
       "bathroom_amenities\n",
       "1    47088\n",
       "0    23901\n",
       "2     2975\n",
       "3      144\n",
       "4        2\n",
       "6        1\n",
       "Name: count, dtype: int64"
      ]
     },
     "execution_count": 285,
     "metadata": {},
     "output_type": "execute_result"
    }
   ],
   "source": [
    "df['bathroom_amenities'].value_counts()"
   ]
  },
  {
   "cell_type": "code",
   "execution_count": 313,
   "metadata": {},
   "outputs": [],
   "source": [
    "# suma de amenities 'Air conditioning', 'Heating', 'Air purifier'\n",
    "df['climate_amenities'] = amenities_encoded[['Air conditioning', 'Heating', 'Air purifier']].sum(axis=1)\n",
    "amenities['climate_amenities'] = ['Air conditioning', 'Heating', 'Air purifier']"
   ]
  },
  {
   "cell_type": "code",
   "execution_count": 289,
   "metadata": {},
   "outputs": [
    {
     "data": {
      "text/plain": [
       "climate_amenities\n",
       "2    52468\n",
       "1    17328\n",
       "0     4304\n",
       "3       11\n",
       "Name: count, dtype: int64"
      ]
     },
     "execution_count": 289,
     "metadata": {},
     "output_type": "execute_result"
    }
   ],
   "source": [
    "df['climate_amenities'].value_counts()"
   ]
  },
  {
   "cell_type": "code",
   "execution_count": 314,
   "metadata": {},
   "outputs": [],
   "source": [
    "# Suma de 'Cat(s)', 'Dog(s)', 'Other pet(s)', 'Pets allowed', 'Pets live on this property'\n",
    "df['pet_amenities'] = amenities_encoded[['Cat(s)', 'Dog(s)', 'Other pet(s)', 'Pets allowed', 'Pets live on this property']].sum(axis=1)\n",
    "amenities['pet_amenities'] = ['Cat(s)', 'Dog(s)', 'Other pet(s)', 'Pets allowed', 'Pets live on this property']"
   ]
  },
  {
   "cell_type": "code",
   "execution_count": 291,
   "metadata": {},
   "outputs": [
    {
     "data": {
      "text/plain": [
       "pet_amenities\n",
       "0    56391\n",
       "1     9404\n",
       "2     5700\n",
       "3     2171\n",
       "4      389\n",
       "5       56\n",
       "Name: count, dtype: int64"
      ]
     },
     "execution_count": 291,
     "metadata": {},
     "output_type": "execute_result"
    }
   ],
   "source": [
    "df['pet_amenities'].value_counts()"
   ]
  },
  {
   "cell_type": "code",
   "execution_count": 315,
   "metadata": {},
   "outputs": [],
   "source": [
    "# suma amenities 'Essentials', 'Internet', 'Wireless Internet', 'Smoke detector', 'Fire extinguisher', 'Shampoo', 'Iron', 'Hair dryer', 'Shower', 'Luggage dropoff allowed', 'Free parking on premises', 'Free parking on street', 'Cable TV', 'Washer / Dryer'\n",
    "df['basic_amenities'] = amenities_encoded[['Essentials', 'Internet', 'Wireless Internet', 'Smoke detector', 'Fire extinguisher', 'Shampoo', 'Iron', 'Hair dryer', 'Luggage dropoff allowed', 'Free parking on premises', 'Free parking on street', 'Cable TV', 'Washer / Dryer']].sum(axis=1)\n",
    "amenities['basic_amenities'] = ['Essentials', 'Internet', 'Wireless Internet', 'Smoke detector', 'Fire extinguisher', 'Shampoo', 'Iron', 'Hair dryer', 'Luggage dropoff allowed', 'Free parking on premises', 'Free parking on street', 'Cable TV', 'Washer / Dryer']"
   ]
  },
  {
   "cell_type": "code",
   "execution_count": 302,
   "metadata": {},
   "outputs": [
    {
     "data": {
      "text/plain": [
       "basic_amenities\n",
       "7     12280\n",
       "6     11825\n",
       "8     11122\n",
       "5     10289\n",
       "9      8021\n",
       "4      7969\n",
       "3      5019\n",
       "10     3388\n",
       "2      2359\n",
       "0      1099\n",
       "1       670\n",
       "11       70\n",
       "Name: count, dtype: int64"
      ]
     },
     "execution_count": 302,
     "metadata": {},
     "output_type": "execute_result"
    }
   ],
   "source": [
    "df['basic_amenities'].value_counts()"
   ]
  },
  {
   "cell_type": "code",
   "execution_count": 316,
   "metadata": {},
   "outputs": [],
   "source": [
    "# suma amenities 'Carbon monoxide detector', 'First aid kit', 'Fireplace guards', 'Smart lock', 'Keypad', 'Lock on bedroom door', 'Smoke detector', 'Safety card', 'Self Check-In'\n",
    "df['safety_amenities'] = amenities_encoded[['Carbon monoxide detector', 'First aid kit', 'Fireplace guards', 'Smart lock', 'Keypad', 'Lock on bedroom door', 'Smoke detector', 'Safety card', 'Self Check-In']].sum(axis=1)\n",
    "amenities['safety_amenities'] = ['Carbon monoxide detector', 'First aid kit', 'Fireplace guards', 'Smart lock', 'Keypad', 'Lock on bedroom door', 'Smoke detector', 'Safety card', 'Self Check-In']"
   ]
  },
  {
   "cell_type": "code",
   "execution_count": 304,
   "metadata": {},
   "outputs": [
    {
     "data": {
      "text/plain": [
       "safety_amenities\n",
       "2    20042\n",
       "3    16926\n",
       "4    10958\n",
       "0    10224\n",
       "1     8981\n",
       "5     5086\n",
       "6     1526\n",
       "7      348\n",
       "8       20\n",
       "Name: count, dtype: int64"
      ]
     },
     "execution_count": 304,
     "metadata": {},
     "output_type": "execute_result"
    }
   ],
   "source": [
    "df['safety_amenities'].value_counts()"
   ]
  },
  {
   "cell_type": "code",
   "execution_count": 317,
   "metadata": {},
   "outputs": [],
   "source": [
    "# suma amenities 'BBQ grill', 'Coffee maker', 'Cooking basics', 'Dishwasher', 'Microwave', 'Oven', 'Stove', 'Refrigerator', 'Dishes and silverware', 'Iron', 'Hot water kettle'\n",
    "df['kitchen_amenities'] = amenities_encoded[['BBQ grill', 'Coffee maker', 'Cooking basics', 'Dishwasher', 'Microwave', 'Oven', 'Stove', 'Refrigerator', 'Dishes and silverware', 'Iron', 'Hot water kettle']].sum(axis=1)\n",
    "amenities['kitchen_amenities'] = ['BBQ grill', 'Coffee maker', 'Cooking basics', 'Dishwasher', 'Microwave', 'Oven', 'Stove', 'Refrigerator', 'Dishes and silverware', 'Iron', 'Hot water kettle']"
   ]
  },
  {
   "cell_type": "code",
   "execution_count": 297,
   "metadata": {},
   "outputs": [
    {
     "data": {
      "text/plain": [
       "kitchen_amenities\n",
       "1     37886\n",
       "0     31492\n",
       "9      1342\n",
       "8      1091\n",
       "7       806\n",
       "6       445\n",
       "10      318\n",
       "5       287\n",
       "4       231\n",
       "3       112\n",
       "2        92\n",
       "11        9\n",
       "Name: count, dtype: int64"
      ]
     },
     "execution_count": 297,
     "metadata": {},
     "output_type": "execute_result"
    }
   ],
   "source": [
    "df['kitchen_amenities'].value_counts()"
   ]
  },
  {
   "cell_type": "code",
   "execution_count": 318,
   "metadata": {},
   "outputs": [],
   "source": [
    "# suma amenities 'Garden or backyard', 'Patio or balcony', 'Beachfront', 'Waterfront', 'Lake access', 'Ski in/Ski out'\n",
    "df['outdoor_amenities'] = amenities_encoded[['Garden or backyard', 'Patio or balcony', 'Beachfront', 'Waterfront', 'Lake access', 'Ski in/Ski out']].sum(axis=1)\n",
    "amenities['outdoor_amenities'] = ['Garden or backyard', 'Patio or balcony', 'Beachfront', 'Waterfront', 'Lake access', 'Ski in/Ski out']"
   ]
  },
  {
   "cell_type": "code",
   "execution_count": 299,
   "metadata": {},
   "outputs": [
    {
     "data": {
      "text/plain": [
       "outdoor_amenities\n",
       "0    72236\n",
       "1     1262\n",
       "2      581\n",
       "3       25\n",
       "4        6\n",
       "5        1\n",
       "Name: count, dtype: int64"
      ]
     },
     "execution_count": 299,
     "metadata": {},
     "output_type": "execute_result"
    }
   ],
   "source": [
    "df['outdoor_amenities'].value_counts()"
   ]
  },
  {
   "cell_type": "code",
   "execution_count": 319,
   "metadata": {},
   "outputs": [],
   "source": [
    "# suma amenities 'TV', 'Cable TV', 'Game console', 'Smartlock', 'Pocket wifi', 'Laptop friendly workspace', 'Buzzer/wireless intercom', 'Internet'\n",
    "df['entertainment_amenities'] = amenities_encoded[['TV', 'Cable TV', 'Game console', 'Smartlock', 'Pocket wifi', 'Laptop friendly workspace', 'Buzzer/wireless intercom', 'Internet']].sum(axis=1)\n",
    "amenities['entertainment_amenities'] = ['TV', 'Cable TV', 'Game console', 'Smartlock', 'Pocket wifi', 'Laptop friendly workspace', 'Buzzer/wireless intercom', 'Internet']"
   ]
  },
  {
   "cell_type": "code",
   "execution_count": 301,
   "metadata": {},
   "outputs": [
    {
     "data": {
      "text/plain": [
       "entertainment_amenities\n",
       "2    19312\n",
       "3    17277\n",
       "4    14073\n",
       "1    13505\n",
       "0     5343\n",
       "5     4413\n",
       "6      183\n",
       "7        5\n",
       "Name: count, dtype: int64"
      ]
     },
     "execution_count": 301,
     "metadata": {},
     "output_type": "execute_result"
    }
   ],
   "source": [
    "df['entertainment_amenities'].value_counts()"
   ]
  },
  {
   "cell_type": "code",
   "execution_count": 336,
   "metadata": {},
   "outputs": [],
   "source": [
    "# suma amenities 'Family/kid friendly', 'Host greets you', 'Luggage dropoff allowed', 'Long term stays allowed', 'Pets live on this property', 'Paid parking off premises', 'Private bathroom', 'Private entrance', 'Private living room'\n",
    "df['family_amenities'] = amenities_encoded[['Family/kid friendly', 'Host greets you', 'Luggage dropoff allowed', 'Long term stays allowed', 'Pets live on this property', 'Paid parking off premises', 'Private bathroom', 'Private entrance', 'Private living room']].sum(axis=1)\n",
    "amenities['family_amenities'] = ['Family/kid friendly', 'Host greets you', 'Luggage dropoff allowed', 'Long term stays allowed', 'Pets live on this property', 'Paid parking off premises', 'Private bathroom', 'Private entrance', 'Private living room']"
   ]
  },
  {
   "cell_type": "code",
   "execution_count": 337,
   "metadata": {},
   "outputs": [
    {
     "name": "stdout",
     "output_type": "stream",
     "text": [
      "accessible_amenities: 12\n",
      "bathroom_amenities: 9\n",
      "climate_amenities: 3\n",
      "pet_amenities: 5\n",
      "basic_amenities: 13\n",
      "safety_amenities: 9\n",
      "kitchen_amenities: 11\n",
      "outdoor_amenities: 6\n",
      "entertainment_amenities: 8\n",
      "family_amenities: 9\n",
      "Total: 85\n"
     ]
    }
   ],
   "source": [
    "# Mira cuantos valores hay en el diccionario amenities\n",
    "total_amenities = 0\n",
    "amenities_list = []\n",
    "for key in amenities:\n",
    "    total_amenities += len(amenities[key])\n",
    "    amenities_list += amenities[key]\n",
    "    print(f'{key}: {len(amenities[key])}')\n",
    "print(f'Total: {total_amenities}')"
   ]
  },
  {
   "cell_type": "code",
   "execution_count": 339,
   "metadata": {},
   "outputs": [
    {
     "data": {
      "text/plain": [
       "85"
      ]
     },
     "execution_count": 339,
     "metadata": {},
     "output_type": "execute_result"
    }
   ],
   "source": [
    "len(amenities_list)"
   ]
  },
  {
   "cell_type": "code",
   "execution_count": 340,
   "metadata": {},
   "outputs": [],
   "source": [
    "amenities_columns = [\n",
    "    \"smooth pathway to front door\", \"24-hour check-in\", \"Accessible-height bed\", \"Accessible-height toilet\",\n",
    "    \"Air conditioning\", \"Air purifier\", \"BBQ grill\", \"Baby bath\", \"Baby monitor\",\n",
    "    \"Babysitter recommendations\", \"Bath towel\", \"Bathtub\", \"Bathtub with shower chair\",\n",
    "    \"Beach essentials\", \"Beachfront\", \"Bed linens\", \"Body soap\", \"Breakfast\",\n",
    "    \"Buzzer/wireless intercom\", \"Cable TV\", \"Carbon monoxide detector\", \"Cat(s)\",\n",
    "    \"Changing table\", \"Children’s books and toys\", \"Children’s dinnerware\",\n",
    "    \"Cleaning before checkout\", \"Coffee maker\", \"Cooking basics\", \"Crib\",\n",
    "    \"Disabled parking spot\", \"Dishes and silverware\", \"Dishwasher\", \"Dog(s)\", \"Doorman\",\n",
    "    \"Doorman Entry\", \"Dryer\", \"EV charger\", \"Elevator\", \"Elevator in building\",\n",
    "    \"Essentials\", \"Ethernet connection\", \"Extra pillows and blankets\",\n",
    "    \"Family/kid friendly\", \"Fire extinguisher\", \"Fireplace guards\", \"Firm matress\",\n",
    "    \"Firm mattress\", \"First aid kit\", \"Fixed grab bars for shower & toilet\", \"Flat\",\n",
    "    \"Flat smooth pathway to front door\", \"Free parking on premises\",\n",
    "    \"Free parking on street\", \"Game console\", \"Garden or backyard\",\n",
    "    \"Grab-rails for shower and toilet\", \"Ground floor access\", \"Gym\", \"Hair dryer\",\n",
    "    \"Hand or paper towel\", \"Hand soap\", \"Handheld shower head\", \"Hangers\", \"Heating\",\n",
    "    \"High chair\", \"Host greets you\", \"Hot tub\", \"Hot water\", \"Hot water kettle\",\n",
    "    \"Indoor fireplace\", \"Internet\", \"Iron\", \"Keypad\", \"Kitchen\", \"Lake access\",\n",
    "    \"Laptop friendly workspace\", \"Lock on bedroom door\", \"Lockbox\",\n",
    "    \"Long term stays allowed\", \"Luggage dropoff allowed\", \"Microwave\", \"Other\",\n",
    "    \"Other pet(s)\", \"Outlet covers\", \"Oven\", \"Pack ’n Play/travel crib\",\n",
    "    \"Paid parking off premises\", \"Path to entrance lit at night\", \"Patio or balcony\",\n",
    "    \"Pets allowed\", \"Pets live on this property\", \"Pocket wifi\", \"Pool\",\n",
    "    \"Private bathroom\", \"Private entrance\", \"Private living room\", \"Refrigerator\",\n",
    "    \"Roll-in shower with chair\", \"Room-darkening shades\", \"Safety card\",\n",
    "    \"Self Check-In\", \"Shampoo\", \"Single level home\", \"Ski in/Ski out\", \"Smart lock\",\n",
    "    \"Smartlock\", \"Smoke detector\", \"Smoking allowed\", \"Stair gates\",\n",
    "    \"Step-free access\", \"Stove\", \"Suitable for events\", \"TV\", \"Table corner guards\",\n",
    "    \"Toilet paper\", \"Washer\", \"Washer / Dryer\", \"Waterfront\",\n",
    "    \"Well-lit path to entrance\", \"Wheelchair accessible\", \"Wide clearance to bed\",\n",
    "    \"Wide clearance to shower and toilet\", \"Wide doorway\", \"Wide entryway\",\n",
    "    \"Wide hallway clearance\", \"Window guards\", \"Wireless Internet\",\n",
    "    \"hosting_amenity_49\", \"hosting_amenity_50\"\n",
    "]"
   ]
  },
  {
   "cell_type": "code",
   "execution_count": 341,
   "metadata": {},
   "outputs": [
    {
     "name": "stdout",
     "output_type": "stream",
     "text": [
      "129\n",
      "129\n",
      "85\n"
     ]
    }
   ],
   "source": [
    "print(len(amenities_columns))\n",
    "print(len(set(amenities_columns)))\n",
    "print(len(amenities_list))"
   ]
  },
  {
   "cell_type": "code",
   "execution_count": 344,
   "metadata": {},
   "outputs": [],
   "source": [
    "# compara amenities_list y amenities_columns y dame una lista de los que no estan en amenities_columns\n",
    "missing_amenities = list(set(amenities_columns) - set(amenities_list))"
   ]
  },
  {
   "cell_type": "code",
   "execution_count": 346,
   "metadata": {},
   "outputs": [
    {
     "data": {
      "text/plain": [
       "['Outlet covers',\n",
       " 'Stair gates',\n",
       " 'Window guards',\n",
       " 'Dryer',\n",
       " 'Baby monitor',\n",
       " 'Firm matress',\n",
       " 'Elevator',\n",
       " 'Other',\n",
       " 'Disabled parking spot',\n",
       " 'Indoor fireplace',\n",
       " 'Smoking allowed',\n",
       " 'Pack ’n Play/travel crib',\n",
       " 'Room-darkening shades',\n",
       " '24-hour check-in',\n",
       " 'Extra pillows and blankets',\n",
       " 'Hangers',\n",
       " 'Doorman Entry',\n",
       " 'Flat',\n",
       " 'Flat smooth pathway to front door',\n",
       " 'Path to entrance lit at night',\n",
       " 'Hot tub',\n",
       " 'Pool',\n",
       " 'Well-lit path to entrance',\n",
       " 'Baby bath',\n",
       " 'Gym',\n",
       " 'Washer',\n",
       " 'hosting_amenity_50',\n",
       " 'Elevator in building',\n",
       " 'Changing table',\n",
       " 'Handheld shower head',\n",
       " 'Children’s dinnerware',\n",
       " 'Crib',\n",
       " 'Cleaning before checkout',\n",
       " 'Table corner guards',\n",
       " 'Ethernet connection',\n",
       " 'Single level home',\n",
       " 'Suitable for events',\n",
       " 'Doorman',\n",
       " 'Hot water',\n",
       " 'High chair',\n",
       " 'smooth pathway to front door',\n",
       " 'Children’s books and toys',\n",
       " 'Firm mattress',\n",
       " 'Kitchen',\n",
       " 'Babysitter recommendations',\n",
       " 'Ground floor access',\n",
       " 'Bed linens',\n",
       " 'Beach essentials',\n",
       " 'EV charger',\n",
       " 'Lockbox',\n",
       " 'hosting_amenity_49',\n",
       " 'Breakfast']"
      ]
     },
     "execution_count": 346,
     "metadata": {},
     "output_type": "execute_result"
    }
   ],
   "source": [
    "missing_amenities"
   ]
  }
 ],
 "metadata": {
  "kernelspec": {
   "display_name": "dataMining",
   "language": "python",
   "name": "python3"
  },
  "language_info": {
   "codemirror_mode": {
    "name": "ipython",
    "version": 3
   },
   "file_extension": ".py",
   "mimetype": "text/x-python",
   "name": "python",
   "nbconvert_exporter": "python",
   "pygments_lexer": "ipython3",
   "version": "3.9.21"
  }
 },
 "nbformat": 4,
 "nbformat_minor": 2
}
