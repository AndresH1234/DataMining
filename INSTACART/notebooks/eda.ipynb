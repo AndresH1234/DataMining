{
 "cells": [
  {
   "cell_type": "markdown",
   "metadata": {},
   "source": [
    "# Analísis Exploratorio"
   ]
  },
  {
   "cell_type": "code",
   "execution_count": null,
   "metadata": {},
   "outputs": [],
   "source": [
    "import snowflake.connector\n",
    "import pandas as pd\n",
    "import matplotlib.pyplot as plt\n",
    "import seaborn as sns\n",
    "import os"
   ]
  },
  {
   "cell_type": "code",
   "execution_count": null,
   "metadata": {},
   "outputs": [],
   "source": [
    "# Snowflake connection\n",
    "snowflake_conn = snowflake.connector.connect(\n",
    "    user=os.getenv(\"SNOWFLAKE_USER\"),\n",
    "    password=os.getenv(\"SNOWFLAKE_PASSWORD\"),\n",
    "    account=os.getenv(\"SNOWFLAKE_ACCOUNT\"),\n",
    "    warehouse=os.getenv(\"SNOWFLAKE_WAREHOUSE\"),\n",
    "    database='INSTACART_DB',\n",
    "    schema='RAW'\n",
    ")"
   ]
  },
  {
   "cell_type": "code",
   "execution_count": 5,
   "metadata": {},
   "outputs": [],
   "source": [
    "# Función para obtener datos\n",
    "def get_data(tabla):\n",
    "    query = f'SELECT * FROM {tabla}'\n",
    "    return pd.read_sql(query, snowflake_conn)  "
   ]
  },
  {
   "cell_type": "code",
   "execution_count": 6,
   "metadata": {},
   "outputs": [
    {
     "name": "stderr",
     "output_type": "stream",
     "text": [
      "/var/folders/sy/fk_t21qs7qv3xc99jxz4q50m0000gn/T/ipykernel_16882/3036904347.py:4: UserWarning: pandas only supports SQLAlchemy connectable (engine/connection) or database string URI or sqlite3 DBAPI2 connection. Other DBAPI2 objects are not tested. Please consider using SQLAlchemy.\n",
      "  return pd.read_sql(query, snowflake_conn)\n"
     ]
    }
   ],
   "source": [
    "df_aisles = get_data('AISLES')\n",
    "df_departments = get_data('DEPARTMENTS')\n",
    "df_instacart_orders = get_data('INSTACART_ORDERS')\n",
    "df_order_products = get_data('ORDER_PRODUCTS')\n",
    "df_products = get_data('PRODUCTS')"
   ]
  },
  {
   "cell_type": "code",
   "execution_count": 7,
   "metadata": {},
   "outputs": [],
   "source": [
    "snowflake_conn.close()"
   ]
  },
  {
   "cell_type": "markdown",
   "metadata": {},
   "source": [
    "### Dimensión de datos"
   ]
  },
  {
   "cell_type": "code",
   "execution_count": 8,
   "metadata": {},
   "outputs": [
    {
     "name": "stdout",
     "output_type": "stream",
     "text": [
      "aisles:  (134, 2)\n",
      "departments:  (21, 2)\n",
      "instacart_orders:  (478967, 6)\n",
      "order_products:  (4545007, 4)\n",
      "products:  (49694, 4)\n"
     ]
    }
   ],
   "source": [
    "# Filas y columnas\n",
    "print('aisles: ', df_aisles.shape)\n",
    "print('departments: ', df_departments.shape)\n",
    "print('instacart_orders: ', df_instacart_orders.shape)\n",
    "print('order_products: ', df_order_products.shape)\n",
    "print('products: ', df_products.shape)\n"
   ]
  },
  {
   "cell_type": "code",
   "execution_count": 9,
   "metadata": {},
   "outputs": [
    {
     "name": "stdout",
     "output_type": "stream",
     "text": [
      "aisles:  Index(['AISLE_ID', 'AISLE'], dtype='object')\n",
      "departments:  Index(['DEPARTMENT_ID', 'DEPARTMENT'], dtype='object')\n",
      "instacart_orders:  Index(['ORDER_ID', 'USER_ID', 'ORDER_NUMBER', 'ORDER_DOW', 'ORDER_HOUR_OF_DAY',\n",
      "       'DAYS_SINCE_PRIOR_ORDER'],\n",
      "      dtype='object')\n",
      "order_products:  Index(['ORDER_ID', 'PRODUCT_ID', 'ADD_TO_CART_ORDER', 'REORDERED'], dtype='object')\n",
      "products:  Index(['PRODUCT_ID', 'PRODUCT_NAME', 'AISLE_ID', 'DEPARTMENT_ID'], dtype='object')\n"
     ]
    }
   ],
   "source": [
    "# Name of the columns\n",
    "print('aisles: ', df_aisles.columns)\n",
    "print('departments: ', df_departments.columns)\n",
    "print('instacart_orders: ', df_instacart_orders.columns)\n",
    "print('order_products: ', df_order_products.columns)\n",
    "print('products: ', df_products.columns)\n"
   ]
  },
  {
   "cell_type": "code",
   "execution_count": 78,
   "metadata": {},
   "outputs": [
    {
     "name": "stdout",
     "output_type": "stream",
     "text": [
      "aisles\n",
      "    AISLE_ID                  AISLE\n",
      "0         1  prepared soups salads\n",
      "1         2      specialty cheeses\n",
      "2         3    energy granola bars\n",
      "departments\n",
      "    DEPARTMENT_ID DEPARTMENT\n",
      "0              1     frozen\n",
      "1              2      other\n",
      "2              3     bakery\n",
      "instacart_orders\n",
      "    ORDER_ID  USER_ID  ORDER_NUMBER  ORDER_DOW  ORDER_HOUR_OF_DAY  \\\n",
      "0   1515936   183418            11          6                 13   \n",
      "1   1690866   163593             5          5                 12   \n",
      "2   1454967    39980             4          5                 19   \n",
      "\n",
      "   DAYS_SINCE_PRIOR_ORDER  \n",
      "0                    30.0  \n",
      "1                     9.0  \n",
      "2                     2.0  \n",
      "order_products\n",
      "    ORDER_ID  PRODUCT_ID  ADD_TO_CART_ORDER  REORDERED\n",
      "0   3014714       29805               21.0          1\n",
      "1   1626538       47766                5.0          1\n",
      "2   1785042       42460               20.0          0\n",
      "products\n",
      "    PRODUCT_ID                          PRODUCT_NAME  AISLE_ID  DEPARTMENT_ID\n",
      "0           1            Chocolate Sandwich Cookies        61             19\n",
      "1           2                      All-Seasons Salt       104             13\n",
      "2           3  Robust Golden Unsweetened Oolong Tea        94              7\n"
     ]
    }
   ],
   "source": [
    "print('aisles\\n', df_aisles.head(3))\n",
    "print('departments\\n', df_departments.head(3))\n",
    "print('instacart_orders\\n', df_instacart_orders.head(3))\n",
    "print('order_products\\n', df_order_products.head(3))\n",
    "print('products\\n', df_products.head(3))"
   ]
  },
  {
   "cell_type": "markdown",
   "metadata": {},
   "source": [
    "### Estadísticos Descriptivos Básicos"
   ]
  },
  {
   "cell_type": "code",
   "execution_count": 10,
   "metadata": {},
   "outputs": [
    {
     "name": "stdout",
     "output_type": "stream",
     "text": [
      "aisles\n",
      "          AISLE_ID\n",
      "count  134.000000\n",
      "mean    67.500000\n",
      "std     38.826537\n",
      "min      1.000000\n",
      "25%     34.250000\n",
      "50%     67.500000\n",
      "75%    100.750000\n",
      "max    134.000000\n",
      "AISLE_ID    134\n",
      "AISLE       134\n",
      "dtype: int64\n",
      "departments\n",
      "        DEPARTMENT_ID\n",
      "count      21.000000\n",
      "mean       11.000000\n",
      "std         6.204837\n",
      "min         1.000000\n",
      "25%         6.000000\n",
      "50%        11.000000\n",
      "75%        16.000000\n",
      "max        21.000000\n",
      "DEPARTMENT_ID    21\n",
      "DEPARTMENT       21\n",
      "dtype: int64\n"
     ]
    }
   ],
   "source": [
    "\n",
    "print('aisles\\n', df_aisles.describe())\n",
    "print(df_aisles.nunique())\n",
    "\n",
    "print('departments\\n', df_departments.describe())\n",
    "print(df_departments.nunique())"
   ]
  },
  {
   "cell_type": "code",
   "execution_count": 11,
   "metadata": {},
   "outputs": [
    {
     "name": "stdout",
     "output_type": "stream",
     "text": [
      "instacart_orders\n",
      "         ORDER_NUMBER      ORDER_DOW  ORDER_HOUR_OF_DAY  DAYS_SINCE_PRIOR_ORDER\n",
      "count  478967.000000  478967.000000      478967.000000           450148.000000\n",
      "mean       17.157808       2.775058          13.446676               11.101751\n",
      "std        17.704688       2.045869           4.224986                9.189975\n",
      "min         1.000000       0.000000           0.000000                0.000000\n",
      "25%         5.000000       1.000000          10.000000                4.000000\n",
      "50%        11.000000       3.000000          13.000000                7.000000\n",
      "75%        23.000000       5.000000          16.000000               15.000000\n",
      "max       100.000000       6.000000          23.000000               30.000000\n",
      "ORDER_ID                  478952\n",
      "USER_ID                   157437\n",
      "ORDER_NUMBER                 100\n",
      "ORDER_DOW                      7\n",
      "ORDER_HOUR_OF_DAY             24\n",
      "DAYS_SINCE_PRIOR_ORDER        31\n",
      "dtype: int64\n"
     ]
    }
   ],
   "source": [
    "# promedio, conteo de valores únicos, minimos, maximos, desviacion estandar\n",
    "columns = ['ORDER_NUMBER', 'ORDER_DOW', 'ORDER_HOUR_OF_DAY','DAYS_SINCE_PRIOR_ORDER']\n",
    "print('instacart_orders\\n', df_instacart_orders[columns].describe())\n",
    "print(df_instacart_orders.nunique())"
   ]
  },
  {
   "cell_type": "code",
   "execution_count": 12,
   "metadata": {},
   "outputs": [
    {
     "name": "stdout",
     "output_type": "stream",
     "text": [
      "order_products\n",
      "        ADD_TO_CART_ORDER     REORDERED\n",
      "count       4.544171e+06  4.545007e+06\n",
      "mean        8.351669e+00  5.905025e-01\n",
      "std         7.080368e+00  4.917411e-01\n",
      "min         1.000000e+00  0.000000e+00\n",
      "25%         3.000000e+00  0.000000e+00\n",
      "50%         6.000000e+00  1.000000e+00\n",
      "75%         1.100000e+01  1.000000e+00\n",
      "max         6.400000e+01  1.000000e+00\n",
      "ORDER_ID             450046\n",
      "PRODUCT_ID            45573\n",
      "ADD_TO_CART_ORDER        64\n",
      "REORDERED                 2\n",
      "dtype: int64\n"
     ]
    }
   ],
   "source": [
    "columns = ['ADD_TO_CART_ORDER', 'REORDERED']\n",
    "print('order_products\\n', df_order_products[columns].describe())\n",
    "print(df_order_products.nunique())"
   ]
  },
  {
   "cell_type": "code",
   "execution_count": 13,
   "metadata": {},
   "outputs": [
    {
     "name": "stdout",
     "output_type": "stream",
     "text": [
      "products\n",
      "          PRODUCT_ID      AISLE_ID  DEPARTMENT_ID\n",
      "count  49694.000000  49694.000000   49694.000000\n",
      "mean   24847.500000     67.773192      11.728478\n",
      "std    14345.566475     38.317265       5.850314\n",
      "min        1.000000      1.000000       1.000000\n",
      "25%    12424.250000     35.000000       7.000000\n",
      "50%    24847.500000     69.000000      13.000000\n",
      "75%    37270.750000    100.000000      17.000000\n",
      "max    49694.000000    134.000000      21.000000\n",
      "PRODUCT_ID       49694\n",
      "PRODUCT_NAME     48436\n",
      "AISLE_ID           134\n",
      "DEPARTMENT_ID       21\n",
      "dtype: int64\n"
     ]
    }
   ],
   "source": [
    "print('products\\n', df_products.describe())\n",
    "print(df_products.nunique())"
   ]
  },
  {
   "cell_type": "markdown",
   "metadata": {},
   "source": [
    "### Distribuciones"
   ]
  },
  {
   "cell_type": "code",
   "execution_count": 14,
   "metadata": {},
   "outputs": [
    {
     "data": {
      "image/png": "[encoded data removed]",
      "text/plain": [
       "<Figure size 1000x500 with 1 Axes>"
      ]
     },
     "metadata": {},
     "output_type": "display_data"
    }
   ],
   "source": [
    "# Crear el histograma de ORDER_NUMBER\n",
    "\n",
    "sns.set_style(\"whitegrid\")\n",
    "\n",
    "\n",
    "plt.figure(figsize=(10, 5))\n",
    "sns.histplot(df_instacart_orders['ORDER_NUMBER'], bins=50, kde=False, color='skyblue')\n",
    "\n",
    "plt.xlabel('Número de Pedido', fontsize=12)\n",
    "plt.ylabel('Frecuencia', fontsize=12)\n",
    "plt.title('ORDER_NUMBER', fontsize=14)\n",
    "plt.xticks(fontsize=10)\n",
    "plt.yticks(fontsize=10)\n",
    "\n",
    "plt.show()"
   ]
  },
  {
   "cell_type": "code",
   "execution_count": 15,
   "metadata": {},
   "outputs": [
    {
     "data": {
      "image/png": "[encoded data removed]",
      "text/plain": [
       "<Figure size 1000x500 with 1 Axes>"
      ]
     },
     "metadata": {},
     "output_type": "display_data"
    }
   ],
   "source": [
    "# Crear el histograma de ORDER_DOW\n",
    "sns.set_style(\"whitegrid\")\n",
    "\n",
    "plt.figure(figsize=(10, 5))\n",
    "sns.histplot(df_instacart_orders['ORDER_DOW'], bins=7, kde=False, color='skyblue')\n",
    "\n",
    "plt.xlabel('Día de la Semana', fontsize=12)\n",
    "plt.ylabel('Frecuencia', fontsize=12)\n",
    "plt.title('ORDER_DOW', fontsize=14)\n",
    "plt.xticks(fontsize=10)\n",
    "plt.yticks(fontsize=10)\n",
    "\n",
    "plt.show()"
   ]
  },
  {
   "cell_type": "code",
   "execution_count": 16,
   "metadata": {},
   "outputs": [
    {
     "data": {
      "image/png": "[encoded data removed]",
      "text/plain": [
       "<Figure size 1000x500 with 1 Axes>"
      ]
     },
     "metadata": {},
     "output_type": "display_data"
    }
   ],
   "source": [
    "# Crear el histograma de ORDER_HOUR_OF_DAY\n",
    "sns.set_style(\"whitegrid\")\n",
    "\n",
    "plt.figure(figsize=(10, 5))\n",
    "sns.histplot(df_instacart_orders['ORDER_HOUR_OF_DAY'], bins=24, kde=False, color='skyblue')\n",
    "\n",
    "plt.xlabel('Hora del Día', fontsize=12)\n",
    "plt.ylabel('Frecuencia', fontsize=12)\n",
    "plt.title('ORDER_HOUR_OF_DAY', fontsize=14)\n",
    "plt.xticks(fontsize=10)\n",
    "plt.yticks(fontsize=10)\n",
    "\n",
    "plt.show()"
   ]
  },
  {
   "cell_type": "code",
   "execution_count": 17,
   "metadata": {},
   "outputs": [
    {
     "data": {
      "image/png": "[encoded data removed]",
      "text/plain": [
       "<Figure size 1000x500 with 1 Axes>"
      ]
     },
     "metadata": {},
     "output_type": "display_data"
    }
   ],
   "source": [
    "# Crear el histograma de DAYS_SINCE_PRIOR_ORDER\n",
    "sns.set_style(\"whitegrid\")\n",
    "\n",
    "plt.figure(figsize=(10, 5))\n",
    "sns.histplot(df_instacart_orders['DAYS_SINCE_PRIOR_ORDER'], bins=50, kde=False, color='skyblue')\n",
    "\n",
    "plt.xlabel('Días desde el Pedido Anterior', fontsize=12)\n",
    "plt.ylabel('Frecuencia', fontsize=12)\n",
    "plt.title('DAYS_SINCE_PRIOR_ORDER', fontsize=14)\n",
    "plt.xticks(fontsize=10)\n",
    "plt.yticks(fontsize=10)\n",
    "\n",
    "plt.show()"
   ]
  },
  {
   "cell_type": "code",
   "execution_count": 18,
   "metadata": {},
   "outputs": [
    {
     "data": {
      "image/png": "[encoded data removed]",
      "text/plain": [
       "<Figure size 1000x500 with 1 Axes>"
      ]
     },
     "metadata": {},
     "output_type": "display_data"
    }
   ],
   "source": [
    "# Crear el histograma de ADD_TO_CART_ORDER\n",
    "sns.set_style(\"whitegrid\")\n",
    "\n",
    "plt.figure(figsize=(10, 5))\n",
    "sns.histplot(df_order_products['ADD_TO_CART_ORDER'], bins=20, kde=False, color='skyblue')\n",
    "\n",
    "plt.xlabel('Orden de Agregado al Carrito', fontsize=12)\n",
    "plt.ylabel('Frecuencia', fontsize=12)\n",
    "plt.title('ADD_TO_CART_ORDER', fontsize=14)\n",
    "plt.xticks(fontsize=10)\n",
    "plt.yticks(fontsize=10)\n",
    "\n",
    "plt.show()"
   ]
  },
  {
   "cell_type": "code",
   "execution_count": 19,
   "metadata": {},
   "outputs": [
    {
     "data": {
      "image/png": "[encoded data removed]",
      "text/plain": [
       "<Figure size 1000x500 with 1 Axes>"
      ]
     },
     "metadata": {},
     "output_type": "display_data"
    }
   ],
   "source": [
    "# Crear el histograma de REORDERED\n",
    "sns.set_style(\"whitegrid\")\n",
    "\n",
    "plt.figure(figsize=(10, 5))\n",
    "sns.histplot(df_order_products['REORDERED'], bins=2, kde=False, color='skyblue')\n",
    "\n",
    "plt.xlabel('Reordenado', fontsize=12)\n",
    "plt.ylabel('Frecuencia', fontsize=12)\n",
    "plt.title('REORDERED', fontsize=14)\n",
    "plt.xticks(fontsize=10)\n",
    "plt.yticks(fontsize=10)\n",
    "\n",
    "plt.show()"
   ]
  },
  {
   "cell_type": "code",
   "execution_count": 20,
   "metadata": {},
   "outputs": [
    {
     "data": {
      "image/png": "[encoded data removed]",
      "text/plain": [
       "<Figure size 1000x500 with 1 Axes>"
      ]
     },
     "metadata": {},
     "output_type": "display_data"
    }
   ],
   "source": [
    "# Crear el histograma de AISLE_ID\n",
    "sns.set_style(\"whitegrid\")\n",
    "\n",
    "plt.figure(figsize=(10, 5))\n",
    "sns.histplot(df_products['AISLE_ID'], bins=100, kde=False, color='skyblue')\n",
    "\n",
    "plt.xlabel('ID de Pasillo', fontsize=12)\n",
    "plt.ylabel('Frecuencia', fontsize=12)\n",
    "plt.title('AISLE_ID', fontsize=14)\n",
    "plt.xticks(fontsize=10)\n",
    "plt.yticks(fontsize=10)\n",
    "\n",
    "plt.show()\n"
   ]
  },
  {
   "cell_type": "code",
   "execution_count": 21,
   "metadata": {},
   "outputs": [
    {
     "data": {
      "image/png": "[encoded data removed]",
      "text/plain": [
       "<Figure size 1000x500 with 1 Axes>"
      ]
     },
     "metadata": {},
     "output_type": "display_data"
    }
   ],
   "source": [
    "# Crear el histograma de DEPARTMENT_ID\n",
    "sns.set_style(\"whitegrid\")\n",
    "\n",
    "plt.figure(figsize=(10, 5))\n",
    "sns.histplot(df_products['DEPARTMENT_ID'], bins=100, kde=False, color='skyblue')\n",
    "\n",
    "plt.xlabel('ID de Departamento', fontsize=12)\n",
    "plt.ylabel('Frecuencia', fontsize=12)\n",
    "plt.title('DEPARTMENT_ID', fontsize=14)\n",
    "plt.xticks(fontsize=10)\n",
    "plt.yticks(fontsize=10)\n",
    "\n",
    "plt.show()"
   ]
  },
  {
   "cell_type": "markdown",
   "metadata": {},
   "source": [
    "## Problemas de calidad"
   ]
  },
  {
   "cell_type": "markdown",
   "metadata": {},
   "source": [
    "### Datos Ausentes"
   ]
  },
  {
   "cell_type": "code",
   "execution_count": 22,
   "metadata": {},
   "outputs": [
    {
     "name": "stdout",
     "output_type": "stream",
     "text": [
      "aisles\n",
      " AISLE_ID    0\n",
      "AISLE       0\n",
      "dtype: int64\n"
     ]
    }
   ],
   "source": [
    "# Datos ausentes\n",
    "print('aisles\\n', df_aisles.isnull().sum())\n"
   ]
  },
  {
   "cell_type": "code",
   "execution_count": 23,
   "metadata": {},
   "outputs": [
    {
     "name": "stdout",
     "output_type": "stream",
     "text": [
      "departments\n",
      " DEPARTMENT_ID    0\n",
      "DEPARTMENT       0\n",
      "dtype: int64\n"
     ]
    }
   ],
   "source": [
    "print('departments\\n', df_departments.isnull().sum())\n"
   ]
  },
  {
   "cell_type": "code",
   "execution_count": 24,
   "metadata": {},
   "outputs": [
    {
     "name": "stdout",
     "output_type": "stream",
     "text": [
      "instacart_orders\n",
      " ORDER_ID                      0\n",
      "USER_ID                       0\n",
      "ORDER_NUMBER                  0\n",
      "ORDER_DOW                     0\n",
      "ORDER_HOUR_OF_DAY             0\n",
      "DAYS_SINCE_PRIOR_ORDER    28819\n",
      "dtype: int64\n"
     ]
    }
   ],
   "source": [
    "print('instacart_orders\\n', df_instacart_orders.isnull().sum())"
   ]
  },
  {
   "cell_type": "code",
   "execution_count": 25,
   "metadata": {},
   "outputs": [
    {
     "name": "stdout",
     "output_type": "stream",
     "text": [
      "order_products\n",
      " ORDER_ID               0\n",
      "PRODUCT_ID             0\n",
      "ADD_TO_CART_ORDER    836\n",
      "REORDERED              0\n",
      "dtype: int64\n"
     ]
    }
   ],
   "source": [
    "print('order_products\\n', df_order_products.isnull().sum())\n"
   ]
  },
  {
   "cell_type": "code",
   "execution_count": 26,
   "metadata": {},
   "outputs": [
    {
     "name": "stdout",
     "output_type": "stream",
     "text": [
      "products\n",
      " PRODUCT_ID          0\n",
      "PRODUCT_NAME     1258\n",
      "AISLE_ID            0\n",
      "DEPARTMENT_ID       0\n",
      "dtype: int64\n"
     ]
    }
   ],
   "source": [
    "print('products\\n', df_products.isnull().sum())"
   ]
  },
  {
   "cell_type": "code",
   "execution_count": 38,
   "metadata": {},
   "outputs": [
    {
     "data": {
      "text/html": [
       "<div>\n",
       "<style scoped>\n",
       "    .dataframe tbody tr th:only-of-type {\n",
       "        vertical-align: middle;\n",
       "    }\n",
       "\n",
       "    .dataframe tbody tr th {\n",
       "        vertical-align: top;\n",
       "    }\n",
       "\n",
       "    .dataframe thead th {\n",
       "        text-align: right;\n",
       "    }\n",
       "</style>\n",
       "<table border=\"1\" class=\"dataframe\">\n",
       "  <thead>\n",
       "    <tr style=\"text-align: right;\">\n",
       "      <th></th>\n",
       "      <th>ORDER_ID</th>\n",
       "      <th>USER_ID</th>\n",
       "      <th>ORDER_NUMBER</th>\n",
       "      <th>ORDER_DOW</th>\n",
       "      <th>ORDER_HOUR_OF_DAY</th>\n",
       "      <th>DAYS_SINCE_PRIOR_ORDER</th>\n",
       "    </tr>\n",
       "  </thead>\n",
       "  <tbody>\n",
       "    <tr>\n",
       "      <th>28</th>\n",
       "      <td>133707</td>\n",
       "      <td>182261</td>\n",
       "      <td>1</td>\n",
       "      <td>3</td>\n",
       "      <td>10</td>\n",
       "      <td>NaN</td>\n",
       "    </tr>\n",
       "    <tr>\n",
       "      <th>96</th>\n",
       "      <td>787445</td>\n",
       "      <td>25685</td>\n",
       "      <td>1</td>\n",
       "      <td>6</td>\n",
       "      <td>18</td>\n",
       "      <td>NaN</td>\n",
       "    </tr>\n",
       "    <tr>\n",
       "      <th>100</th>\n",
       "      <td>294410</td>\n",
       "      <td>111449</td>\n",
       "      <td>1</td>\n",
       "      <td>0</td>\n",
       "      <td>19</td>\n",
       "      <td>NaN</td>\n",
       "    </tr>\n",
       "    <tr>\n",
       "      <th>103</th>\n",
       "      <td>2869915</td>\n",
       "      <td>123958</td>\n",
       "      <td>1</td>\n",
       "      <td>4</td>\n",
       "      <td>16</td>\n",
       "      <td>NaN</td>\n",
       "    </tr>\n",
       "    <tr>\n",
       "      <th>104</th>\n",
       "      <td>2521921</td>\n",
       "      <td>42286</td>\n",
       "      <td>1</td>\n",
       "      <td>3</td>\n",
       "      <td>18</td>\n",
       "      <td>NaN</td>\n",
       "    </tr>\n",
       "    <tr>\n",
       "      <th>...</th>\n",
       "      <td>...</td>\n",
       "      <td>...</td>\n",
       "      <td>...</td>\n",
       "      <td>...</td>\n",
       "      <td>...</td>\n",
       "      <td>...</td>\n",
       "    </tr>\n",
       "    <tr>\n",
       "      <th>478895</th>\n",
       "      <td>2589657</td>\n",
       "      <td>205028</td>\n",
       "      <td>1</td>\n",
       "      <td>0</td>\n",
       "      <td>16</td>\n",
       "      <td>NaN</td>\n",
       "    </tr>\n",
       "    <tr>\n",
       "      <th>478896</th>\n",
       "      <td>2222353</td>\n",
       "      <td>141211</td>\n",
       "      <td>1</td>\n",
       "      <td>2</td>\n",
       "      <td>13</td>\n",
       "      <td>NaN</td>\n",
       "    </tr>\n",
       "    <tr>\n",
       "      <th>478922</th>\n",
       "      <td>2272807</td>\n",
       "      <td>204154</td>\n",
       "      <td>1</td>\n",
       "      <td>1</td>\n",
       "      <td>15</td>\n",
       "      <td>NaN</td>\n",
       "    </tr>\n",
       "    <tr>\n",
       "      <th>478926</th>\n",
       "      <td>2499542</td>\n",
       "      <td>68810</td>\n",
       "      <td>1</td>\n",
       "      <td>4</td>\n",
       "      <td>19</td>\n",
       "      <td>NaN</td>\n",
       "    </tr>\n",
       "    <tr>\n",
       "      <th>478945</th>\n",
       "      <td>1387033</td>\n",
       "      <td>22496</td>\n",
       "      <td>1</td>\n",
       "      <td>5</td>\n",
       "      <td>14</td>\n",
       "      <td>NaN</td>\n",
       "    </tr>\n",
       "  </tbody>\n",
       "</table>\n",
       "<p>28819 rows × 6 columns</p>\n",
       "</div>"
      ],
      "text/plain": [
       "        ORDER_ID  USER_ID  ORDER_NUMBER  ORDER_DOW  ORDER_HOUR_OF_DAY  \\\n",
       "28        133707   182261             1          3                 10   \n",
       "96        787445    25685             1          6                 18   \n",
       "100       294410   111449             1          0                 19   \n",
       "103      2869915   123958             1          4                 16   \n",
       "104      2521921    42286             1          3                 18   \n",
       "...          ...      ...           ...        ...                ...   \n",
       "478895   2589657   205028             1          0                 16   \n",
       "478896   2222353   141211             1          2                 13   \n",
       "478922   2272807   204154             1          1                 15   \n",
       "478926   2499542    68810             1          4                 19   \n",
       "478945   1387033    22496             1          5                 14   \n",
       "\n",
       "        DAYS_SINCE_PRIOR_ORDER  \n",
       "28                         NaN  \n",
       "96                         NaN  \n",
       "100                        NaN  \n",
       "103                        NaN  \n",
       "104                        NaN  \n",
       "...                        ...  \n",
       "478895                     NaN  \n",
       "478896                     NaN  \n",
       "478922                     NaN  \n",
       "478926                     NaN  \n",
       "478945                     NaN  \n",
       "\n",
       "[28819 rows x 6 columns]"
      ]
     },
     "execution_count": 38,
     "metadata": {},
     "output_type": "execute_result"
    }
   ],
   "source": [
    "# Analisis nulos Instacart Orders\n",
    "# Imprime los registros con ORDER_NUMBER de 1\n",
    "df_instacart_orders[df_instacart_orders['DAYS_SINCE_PRIOR_ORDER'].isna()]"
   ]
  },
  {
   "cell_type": "code",
   "execution_count": 39,
   "metadata": {},
   "outputs": [
    {
     "name": "stdout",
     "output_type": "stream",
     "text": [
      "Registros con ORDER_NUMBER de 1\n",
      "         ORDER_ID  USER_ID  ORDER_NUMBER  ORDER_DOW  ORDER_HOUR_OF_DAY  \\\n",
      "28        133707   182261             1          3                 10   \n",
      "96        787445    25685             1          6                 18   \n",
      "100       294410   111449             1          0                 19   \n",
      "103      2869915   123958             1          4                 16   \n",
      "104      2521921    42286             1          3                 18   \n",
      "...          ...      ...           ...        ...                ...   \n",
      "478895   2589657   205028             1          0                 16   \n",
      "478896   2222353   141211             1          2                 13   \n",
      "478922   2272807   204154             1          1                 15   \n",
      "478926   2499542    68810             1          4                 19   \n",
      "478945   1387033    22496             1          5                 14   \n",
      "\n",
      "        DAYS_SINCE_PRIOR_ORDER  \n",
      "28                         NaN  \n",
      "96                         NaN  \n",
      "100                        NaN  \n",
      "103                        NaN  \n",
      "104                        NaN  \n",
      "...                        ...  \n",
      "478895                     NaN  \n",
      "478896                     NaN  \n",
      "478922                     NaN  \n",
      "478926                     NaN  \n",
      "478945                     NaN  \n",
      "\n",
      "[28819 rows x 6 columns]\n"
     ]
    },
    {
     "data": {
      "text/html": [
       "<div>\n",
       "<style scoped>\n",
       "    .dataframe tbody tr th:only-of-type {\n",
       "        vertical-align: middle;\n",
       "    }\n",
       "\n",
       "    .dataframe tbody tr th {\n",
       "        vertical-align: top;\n",
       "    }\n",
       "\n",
       "    .dataframe thead th {\n",
       "        text-align: right;\n",
       "    }\n",
       "</style>\n",
       "<table border=\"1\" class=\"dataframe\">\n",
       "  <thead>\n",
       "    <tr style=\"text-align: right;\">\n",
       "      <th></th>\n",
       "      <th>ORDER_ID</th>\n",
       "      <th>USER_ID</th>\n",
       "      <th>ORDER_NUMBER</th>\n",
       "      <th>ORDER_DOW</th>\n",
       "      <th>ORDER_HOUR_OF_DAY</th>\n",
       "      <th>DAYS_SINCE_PRIOR_ORDER</th>\n",
       "    </tr>\n",
       "  </thead>\n",
       "  <tbody>\n",
       "  </tbody>\n",
       "</table>\n",
       "</div>"
      ],
      "text/plain": [
       "Empty DataFrame\n",
       "Columns: [ORDER_ID, USER_ID, ORDER_NUMBER, ORDER_DOW, ORDER_HOUR_OF_DAY, DAYS_SINCE_PRIOR_ORDER]\n",
       "Index: []"
      ]
     },
     "execution_count": 39,
     "metadata": {},
     "output_type": "execute_result"
    }
   ],
   "source": [
    "print('Registros con ORDER_NUMBER de 1\\n', df_instacart_orders[df_instacart_orders['ORDER_NUMBER'] == 1])\n",
    "df_instacart_orders[df_instacart_orders['DAYS_SINCE_PRIOR_ORDER'].isna()].query('ORDER_NUMBER != 1')\n"
   ]
  },
  {
   "cell_type": "markdown",
   "metadata": {},
   "source": [
    "Se nota que los valores con ORDER_NUMBER 1 tienen NaN"
   ]
  },
  {
   "cell_type": "code",
   "execution_count": 34,
   "metadata": {},
   "outputs": [
    {
     "name": "stdout",
     "output_type": "stream",
     "text": [
      "[21.  5. 20. 24. 15.  3.  9. 34. 10.  6. 19.  2.  7.  1. 36. 12. 13. 17.\n",
      " 33. 14.  4. 11. 18.  8. 16. 25. 22. 26. 42. 28. 27. 29. 35. 30. 23. 31.\n",
      " 41. nan 32. 38. 54. 52. 49. 40. 37. 39. 58. 53. 51. 59. 45. 43. 55. 47.\n",
      " 48. 46. 56. 44. 63. 50. 60. 62. 57. 61. 64.]\n"
     ]
    }
   ],
   "source": [
    "# analisis nulos Order Products\n",
    "print(df_order_products['ADD_TO_CART_ORDER'].unique())\n"
   ]
  },
  {
   "cell_type": "code",
   "execution_count": 35,
   "metadata": {},
   "outputs": [
    {
     "data": {
      "text/html": [
       "<div>\n",
       "<style scoped>\n",
       "    .dataframe tbody tr th:only-of-type {\n",
       "        vertical-align: middle;\n",
       "    }\n",
       "\n",
       "    .dataframe tbody tr th {\n",
       "        vertical-align: top;\n",
       "    }\n",
       "\n",
       "    .dataframe thead th {\n",
       "        text-align: right;\n",
       "    }\n",
       "</style>\n",
       "<table border=\"1\" class=\"dataframe\">\n",
       "  <thead>\n",
       "    <tr style=\"text-align: right;\">\n",
       "      <th></th>\n",
       "      <th>ORDER_ID</th>\n",
       "      <th>PRODUCT_ID</th>\n",
       "      <th>ADD_TO_CART_ORDER</th>\n",
       "      <th>REORDERED</th>\n",
       "    </tr>\n",
       "  </thead>\n",
       "  <tbody>\n",
       "    <tr>\n",
       "      <th>726</th>\n",
       "      <td>1717990</td>\n",
       "      <td>37766</td>\n",
       "      <td>NaN</td>\n",
       "      <td>1</td>\n",
       "    </tr>\n",
       "    <tr>\n",
       "      <th>7750</th>\n",
       "      <td>293169</td>\n",
       "      <td>23233</td>\n",
       "      <td>NaN</td>\n",
       "      <td>1</td>\n",
       "    </tr>\n",
       "    <tr>\n",
       "      <th>10489</th>\n",
       "      <td>61355</td>\n",
       "      <td>47269</td>\n",
       "      <td>NaN</td>\n",
       "      <td>0</td>\n",
       "    </tr>\n",
       "    <tr>\n",
       "      <th>12360</th>\n",
       "      <td>1386261</td>\n",
       "      <td>29454</td>\n",
       "      <td>NaN</td>\n",
       "      <td>0</td>\n",
       "    </tr>\n",
       "    <tr>\n",
       "      <th>20920</th>\n",
       "      <td>2721963</td>\n",
       "      <td>5322</td>\n",
       "      <td>NaN</td>\n",
       "      <td>0</td>\n",
       "    </tr>\n",
       "    <tr>\n",
       "      <th>...</th>\n",
       "      <td>...</td>\n",
       "      <td>...</td>\n",
       "      <td>...</td>\n",
       "      <td>...</td>\n",
       "    </tr>\n",
       "    <tr>\n",
       "      <th>4531181</th>\n",
       "      <td>102236</td>\n",
       "      <td>47717</td>\n",
       "      <td>NaN</td>\n",
       "      <td>0</td>\n",
       "    </tr>\n",
       "    <tr>\n",
       "      <th>4531925</th>\n",
       "      <td>61355</td>\n",
       "      <td>29660</td>\n",
       "      <td>NaN</td>\n",
       "      <td>0</td>\n",
       "    </tr>\n",
       "    <tr>\n",
       "      <th>4535380</th>\n",
       "      <td>3125735</td>\n",
       "      <td>4756</td>\n",
       "      <td>NaN</td>\n",
       "      <td>1</td>\n",
       "    </tr>\n",
       "    <tr>\n",
       "      <th>4537186</th>\n",
       "      <td>3308010</td>\n",
       "      <td>42265</td>\n",
       "      <td>NaN</td>\n",
       "      <td>1</td>\n",
       "    </tr>\n",
       "    <tr>\n",
       "      <th>4543153</th>\n",
       "      <td>1386261</td>\n",
       "      <td>21288</td>\n",
       "      <td>NaN</td>\n",
       "      <td>0</td>\n",
       "    </tr>\n",
       "  </tbody>\n",
       "</table>\n",
       "<p>836 rows × 4 columns</p>\n",
       "</div>"
      ],
      "text/plain": [
       "         ORDER_ID  PRODUCT_ID  ADD_TO_CART_ORDER  REORDERED\n",
       "726       1717990       37766                NaN          1\n",
       "7750       293169       23233                NaN          1\n",
       "10489       61355       47269                NaN          0\n",
       "12360     1386261       29454                NaN          0\n",
       "20920     2721963        5322                NaN          0\n",
       "...           ...         ...                ...        ...\n",
       "4531181    102236       47717                NaN          0\n",
       "4531925     61355       29660                NaN          0\n",
       "4535380   3125735        4756                NaN          1\n",
       "4537186   3308010       42265                NaN          1\n",
       "4543153   1386261       21288                NaN          0\n",
       "\n",
       "[836 rows x 4 columns]"
      ]
     },
     "execution_count": 35,
     "metadata": {},
     "output_type": "execute_result"
    }
   ],
   "source": [
    "df_order_products[df_order_products['ADD_TO_CART_ORDER'].isna()]"
   ]
  },
  {
   "cell_type": "markdown",
   "metadata": {},
   "source": [
    "- No se registró en qué posición se agregó el producto.\n",
    "- Algo falló en la recopilación de información."
   ]
  },
  {
   "cell_type": "code",
   "execution_count": 43,
   "metadata": {},
   "outputs": [
    {
     "data": {
      "text/html": [
       "<div>\n",
       "<style scoped>\n",
       "    .dataframe tbody tr th:only-of-type {\n",
       "        vertical-align: middle;\n",
       "    }\n",
       "\n",
       "    .dataframe tbody tr th {\n",
       "        vertical-align: top;\n",
       "    }\n",
       "\n",
       "    .dataframe thead th {\n",
       "        text-align: right;\n",
       "    }\n",
       "</style>\n",
       "<table border=\"1\" class=\"dataframe\">\n",
       "  <thead>\n",
       "    <tr style=\"text-align: right;\">\n",
       "      <th></th>\n",
       "      <th>PRODUCT_ID</th>\n",
       "      <th>PRODUCT_NAME</th>\n",
       "      <th>AISLE_ID</th>\n",
       "      <th>DEPARTMENT_ID</th>\n",
       "    </tr>\n",
       "  </thead>\n",
       "  <tbody>\n",
       "    <tr>\n",
       "      <th>37</th>\n",
       "      <td>38</td>\n",
       "      <td>None</td>\n",
       "      <td>100</td>\n",
       "      <td>21</td>\n",
       "    </tr>\n",
       "    <tr>\n",
       "      <th>71</th>\n",
       "      <td>72</td>\n",
       "      <td>None</td>\n",
       "      <td>100</td>\n",
       "      <td>21</td>\n",
       "    </tr>\n",
       "    <tr>\n",
       "      <th>109</th>\n",
       "      <td>110</td>\n",
       "      <td>None</td>\n",
       "      <td>100</td>\n",
       "      <td>21</td>\n",
       "    </tr>\n",
       "    <tr>\n",
       "      <th>296</th>\n",
       "      <td>297</td>\n",
       "      <td>None</td>\n",
       "      <td>100</td>\n",
       "      <td>21</td>\n",
       "    </tr>\n",
       "    <tr>\n",
       "      <th>416</th>\n",
       "      <td>417</td>\n",
       "      <td>None</td>\n",
       "      <td>100</td>\n",
       "      <td>21</td>\n",
       "    </tr>\n",
       "    <tr>\n",
       "      <th>...</th>\n",
       "      <td>...</td>\n",
       "      <td>...</td>\n",
       "      <td>...</td>\n",
       "      <td>...</td>\n",
       "    </tr>\n",
       "    <tr>\n",
       "      <th>49552</th>\n",
       "      <td>49553</td>\n",
       "      <td>None</td>\n",
       "      <td>100</td>\n",
       "      <td>21</td>\n",
       "    </tr>\n",
       "    <tr>\n",
       "      <th>49574</th>\n",
       "      <td>49575</td>\n",
       "      <td>None</td>\n",
       "      <td>100</td>\n",
       "      <td>21</td>\n",
       "    </tr>\n",
       "    <tr>\n",
       "      <th>49640</th>\n",
       "      <td>49641</td>\n",
       "      <td>None</td>\n",
       "      <td>100</td>\n",
       "      <td>21</td>\n",
       "    </tr>\n",
       "    <tr>\n",
       "      <th>49663</th>\n",
       "      <td>49664</td>\n",
       "      <td>None</td>\n",
       "      <td>100</td>\n",
       "      <td>21</td>\n",
       "    </tr>\n",
       "    <tr>\n",
       "      <th>49668</th>\n",
       "      <td>49669</td>\n",
       "      <td>None</td>\n",
       "      <td>100</td>\n",
       "      <td>21</td>\n",
       "    </tr>\n",
       "  </tbody>\n",
       "</table>\n",
       "<p>1258 rows × 4 columns</p>\n",
       "</div>"
      ],
      "text/plain": [
       "       PRODUCT_ID PRODUCT_NAME  AISLE_ID  DEPARTMENT_ID\n",
       "37             38         None       100             21\n",
       "71             72         None       100             21\n",
       "109           110         None       100             21\n",
       "296           297         None       100             21\n",
       "416           417         None       100             21\n",
       "...           ...          ...       ...            ...\n",
       "49552       49553         None       100             21\n",
       "49574       49575         None       100             21\n",
       "49640       49641         None       100             21\n",
       "49663       49664         None       100             21\n",
       "49668       49669         None       100             21\n",
       "\n",
       "[1258 rows x 4 columns]"
      ]
     },
     "execution_count": 43,
     "metadata": {},
     "output_type": "execute_result"
    }
   ],
   "source": [
    "# analisis nulos Products\n",
    "df_products[df_products['PRODUCT_NAME'].isna()]"
   ]
  },
  {
   "cell_type": "code",
   "execution_count": 45,
   "metadata": {},
   "outputs": [
    {
     "data": {
      "text/html": [
       "<div>\n",
       "<style scoped>\n",
       "    .dataframe tbody tr th:only-of-type {\n",
       "        vertical-align: middle;\n",
       "    }\n",
       "\n",
       "    .dataframe tbody tr th {\n",
       "        vertical-align: top;\n",
       "    }\n",
       "\n",
       "    .dataframe thead th {\n",
       "        text-align: right;\n",
       "    }\n",
       "</style>\n",
       "<table border=\"1\" class=\"dataframe\">\n",
       "  <thead>\n",
       "    <tr style=\"text-align: right;\">\n",
       "      <th></th>\n",
       "      <th>PRODUCT_ID</th>\n",
       "      <th>PRODUCT_NAME</th>\n",
       "      <th>AISLE_ID</th>\n",
       "      <th>DEPARTMENT_ID</th>\n",
       "    </tr>\n",
       "  </thead>\n",
       "  <tbody>\n",
       "  </tbody>\n",
       "</table>\n",
       "</div>"
      ],
      "text/plain": [
       "Empty DataFrame\n",
       "Columns: [PRODUCT_ID, PRODUCT_NAME, AISLE_ID, DEPARTMENT_ID]\n",
       "Index: []"
      ]
     },
     "execution_count": 45,
     "metadata": {},
     "output_type": "execute_result"
    }
   ],
   "source": [
    "df_products[df_products['PRODUCT_NAME'].isna()].query('AISLE_ID != 100')"
   ]
  },
  {
   "cell_type": "code",
   "execution_count": 46,
   "metadata": {},
   "outputs": [
    {
     "data": {
      "text/html": [
       "<div>\n",
       "<style scoped>\n",
       "    .dataframe tbody tr th:only-of-type {\n",
       "        vertical-align: middle;\n",
       "    }\n",
       "\n",
       "    .dataframe tbody tr th {\n",
       "        vertical-align: top;\n",
       "    }\n",
       "\n",
       "    .dataframe thead th {\n",
       "        text-align: right;\n",
       "    }\n",
       "</style>\n",
       "<table border=\"1\" class=\"dataframe\">\n",
       "  <thead>\n",
       "    <tr style=\"text-align: right;\">\n",
       "      <th></th>\n",
       "      <th>PRODUCT_ID</th>\n",
       "      <th>PRODUCT_NAME</th>\n",
       "      <th>AISLE_ID</th>\n",
       "      <th>DEPARTMENT_ID</th>\n",
       "    </tr>\n",
       "  </thead>\n",
       "  <tbody>\n",
       "  </tbody>\n",
       "</table>\n",
       "</div>"
      ],
      "text/plain": [
       "Empty DataFrame\n",
       "Columns: [PRODUCT_ID, PRODUCT_NAME, AISLE_ID, DEPARTMENT_ID]\n",
       "Index: []"
      ]
     },
     "execution_count": 46,
     "metadata": {},
     "output_type": "execute_result"
    }
   ],
   "source": [
    "df_products[df_products['PRODUCT_NAME'].isna()].query('DEPARTMENT_ID != 21')"
   ]
  },
  {
   "cell_type": "code",
   "execution_count": 47,
   "metadata": {},
   "outputs": [
    {
     "data": {
      "text/html": [
       "<div>\n",
       "<style scoped>\n",
       "    .dataframe tbody tr th:only-of-type {\n",
       "        vertical-align: middle;\n",
       "    }\n",
       "\n",
       "    .dataframe tbody tr th {\n",
       "        vertical-align: top;\n",
       "    }\n",
       "\n",
       "    .dataframe thead th {\n",
       "        text-align: right;\n",
       "    }\n",
       "</style>\n",
       "<table border=\"1\" class=\"dataframe\">\n",
       "  <thead>\n",
       "    <tr style=\"text-align: right;\">\n",
       "      <th></th>\n",
       "      <th>AISLE_ID</th>\n",
       "      <th>AISLE</th>\n",
       "    </tr>\n",
       "  </thead>\n",
       "  <tbody>\n",
       "    <tr>\n",
       "      <th>99</th>\n",
       "      <td>100</td>\n",
       "      <td>missing</td>\n",
       "    </tr>\n",
       "  </tbody>\n",
       "</table>\n",
       "</div>"
      ],
      "text/plain": [
       "    AISLE_ID    AISLE\n",
       "99       100  missing"
      ]
     },
     "execution_count": 47,
     "metadata": {},
     "output_type": "execute_result"
    }
   ],
   "source": [
    "df_aisles[df_aisles['AISLE_ID'] == 100]"
   ]
  },
  {
   "cell_type": "code",
   "execution_count": 48,
   "metadata": {},
   "outputs": [
    {
     "data": {
      "text/html": [
       "<div>\n",
       "<style scoped>\n",
       "    .dataframe tbody tr th:only-of-type {\n",
       "        vertical-align: middle;\n",
       "    }\n",
       "\n",
       "    .dataframe tbody tr th {\n",
       "        vertical-align: top;\n",
       "    }\n",
       "\n",
       "    .dataframe thead th {\n",
       "        text-align: right;\n",
       "    }\n",
       "</style>\n",
       "<table border=\"1\" class=\"dataframe\">\n",
       "  <thead>\n",
       "    <tr style=\"text-align: right;\">\n",
       "      <th></th>\n",
       "      <th>DEPARTMENT_ID</th>\n",
       "      <th>DEPARTMENT</th>\n",
       "    </tr>\n",
       "  </thead>\n",
       "  <tbody>\n",
       "    <tr>\n",
       "      <th>20</th>\n",
       "      <td>21</td>\n",
       "      <td>missing</td>\n",
       "    </tr>\n",
       "  </tbody>\n",
       "</table>\n",
       "</div>"
      ],
      "text/plain": [
       "    DEPARTMENT_ID DEPARTMENT\n",
       "20             21    missing"
      ]
     },
     "execution_count": 48,
     "metadata": {},
     "output_type": "execute_result"
    }
   ],
   "source": [
    "df_departments[df_departments['DEPARTMENT_ID'] == 21]"
   ]
  },
  {
   "cell_type": "markdown",
   "metadata": {},
   "source": [
    "Se nota que los valores dentro de missing en aisel y department tienen none en product_name"
   ]
  },
  {
   "cell_type": "markdown",
   "metadata": {},
   "source": [
    "### Registros duplicados"
   ]
  },
  {
   "cell_type": "code",
   "execution_count": 49,
   "metadata": {},
   "outputs": [
    {
     "name": "stdout",
     "output_type": "stream",
     "text": [
      "aisles\n",
      " Empty DataFrame\n",
      "Columns: [AISLE_ID, AISLE]\n",
      "Index: []\n",
      "departments\n",
      " Empty DataFrame\n",
      "Columns: [DEPARTMENT_ID, DEPARTMENT]\n",
      "Index: []\n",
      "instacart_orders\n",
      "         ORDER_ID  USER_ID  ORDER_NUMBER  ORDER_DOW  ORDER_HOUR_OF_DAY  \\\n",
      "145574    794638    50898            24          3                  2   \n",
      "223105   2160484   107525            16          3                  2   \n",
      "230807   1918001   188546            14          3                  2   \n",
      "266232   1782114   106752             1          3                  2   \n",
      "273805   1112182   202304            84          3                  2   \n",
      "284038   2845099    31189            11          3                  2   \n",
      "311713   1021560    53767             3          3                  2   \n",
      "321100    408114    68324             4          3                  2   \n",
      "323900   1919531   191501            32          3                  2   \n",
      "345917   2232988    82565             1          3                  2   \n",
      "371905    391768    57671            19          3                  2   \n",
      "394347    467134    63189            21          3                  2   \n",
      "411408   1286742   183220            48          3                  2   \n",
      "415163   2282673    86751            49          3                  2   \n",
      "441599   2125197    14050            48          3                  2   \n",
      "\n",
      "        DAYS_SINCE_PRIOR_ORDER  \n",
      "145574                     2.0  \n",
      "223105                    30.0  \n",
      "230807                    16.0  \n",
      "266232                     NaN  \n",
      "273805                     6.0  \n",
      "284038                     7.0  \n",
      "311713                     9.0  \n",
      "321100                    18.0  \n",
      "323900                     7.0  \n",
      "345917                     NaN  \n",
      "371905                    10.0  \n",
      "394347                     2.0  \n",
      "411408                     4.0  \n",
      "415163                     2.0  \n",
      "441599                     3.0  \n",
      "order_products\n",
      " Empty DataFrame\n",
      "Columns: [ORDER_ID, PRODUCT_ID, ADD_TO_CART_ORDER, REORDERED]\n",
      "Index: []\n",
      "products\n",
      " Empty DataFrame\n",
      "Columns: [PRODUCT_ID, PRODUCT_NAME, AISLE_ID, DEPARTMENT_ID]\n",
      "Index: []\n"
     ]
    }
   ],
   "source": [
    "# Ver registros duplicados\n",
    "print('aisles\\n', df_aisles[df_aisles.duplicated()])\n",
    "print('departments\\n', df_departments[df_departments.duplicated()])\n",
    "print('instacart_orders\\n', df_instacart_orders[df_instacart_orders.duplicated()])\n",
    "print('order_products\\n', df_order_products[df_order_products.duplicated()])\n",
    "print('products\\n', df_products[df_products.duplicated()])"
   ]
  },
  {
   "cell_type": "code",
   "execution_count": 55,
   "metadata": {},
   "outputs": [
    {
     "name": "stdout",
     "output_type": "stream",
     "text": [
      "15\n",
      "15\n"
     ]
    }
   ],
   "source": [
    "# duplicados en instacart_orders\n",
    "print(len(df_instacart_orders[df_instacart_orders.duplicated()]))\n",
    "print(len(df_instacart_orders[df_instacart_orders['ORDER_ID'].duplicated()]))\n"
   ]
  },
  {
   "cell_type": "code",
   "execution_count": 74,
   "metadata": {},
   "outputs": [
    {
     "name": "stdout",
     "output_type": "stream",
     "text": [
      "order_products\n",
      " Empty DataFrame\n",
      "Columns: [ORDER_ID, PRODUCT_ID, ADD_TO_CART_ORDER, REORDERED]\n",
      "Index: []\n"
     ]
    }
   ],
   "source": [
    "print('order_products\\n', df_order_products[df_order_products.duplicated()])"
   ]
  },
  {
   "cell_type": "markdown",
   "metadata": {},
   "source": [
    "### Inconsistencias en tipos de datos"
   ]
  },
  {
   "cell_type": "code",
   "execution_count": 57,
   "metadata": {},
   "outputs": [
    {
     "name": "stdout",
     "output_type": "stream",
     "text": [
      "aisles\n",
      " AISLE_ID     int64\n",
      "AISLE       object\n",
      "dtype: object\n",
      "departments\n",
      " DEPARTMENT_ID     int64\n",
      "DEPARTMENT       object\n",
      "dtype: object\n",
      "instacart_orders\n",
      " ORDER_ID                    int64\n",
      "USER_ID                     int64\n",
      "ORDER_NUMBER                int64\n",
      "ORDER_DOW                   int64\n",
      "ORDER_HOUR_OF_DAY           int64\n",
      "DAYS_SINCE_PRIOR_ORDER    float64\n",
      "dtype: object\n",
      "order_products\n",
      " ORDER_ID               int64\n",
      "PRODUCT_ID             int64\n",
      "ADD_TO_CART_ORDER    float64\n",
      "REORDERED              int64\n",
      "dtype: object\n",
      "products\n",
      " PRODUCT_ID        int64\n",
      "PRODUCT_NAME     object\n",
      "AISLE_ID          int64\n",
      "DEPARTMENT_ID     int64\n",
      "dtype: object\n"
     ]
    }
   ],
   "source": [
    "# Mirar las inconsitencias de datos\n",
    "print('aisles\\n', df_aisles.dtypes)\n",
    "print('departments\\n', df_departments.dtypes)\n",
    "print('instacart_orders\\n', df_instacart_orders.dtypes)\n",
    "print('order_products\\n', df_order_products.dtypes)\n",
    "print('products\\n', df_products.dtypes)\n"
   ]
  },
  {
   "cell_type": "code",
   "execution_count": 59,
   "metadata": {},
   "outputs": [
    {
     "name": "stdout",
     "output_type": "stream",
     "text": [
      "Empty DataFrame\n",
      "Columns: [ORDER_ID, USER_ID, ORDER_NUMBER, ORDER_DOW, ORDER_HOUR_OF_DAY, DAYS_SINCE_PRIOR_ORDER]\n",
      "Index: []\n",
      "Empty DataFrame\n",
      "Columns: [ORDER_ID, PRODUCT_ID, ADD_TO_CART_ORDER, REORDERED]\n",
      "Index: []\n"
     ]
    }
   ],
   "source": [
    "# Filtrar valores no nulos antes de verificar si tienen decimales\n",
    "print(df_instacart_orders[df_instacart_orders['DAYS_SINCE_PRIOR_ORDER'].notna() & \n",
    "                          (df_instacart_orders['DAYS_SINCE_PRIOR_ORDER'] % 1 != 0)])\n",
    "\n",
    "print(df_order_products[df_order_products['ADD_TO_CART_ORDER'].notna() & \n",
    "                        (df_order_products['ADD_TO_CART_ORDER'] % 1 != 0)])\n"
   ]
  },
  {
   "cell_type": "markdown",
   "metadata": {},
   "source": [
    "### Valores Atípicos"
   ]
  },
  {
   "cell_type": "code",
   "execution_count": 60,
   "metadata": {},
   "outputs": [],
   "source": [
    "def detectar_outliers_iqr(df, columna):\n",
    "    Q1 = df[columna].quantile(0.25)\n",
    "    Q3 = df[columna].quantile(0.75)\n",
    "    IQR = Q3 - Q1\n",
    "    limite_inferior = Q1 - 1.5 * IQR\n",
    "    limite_superior = Q3 + 1.5 * IQR\n",
    "    return df[(df[columna] < limite_inferior) | (df[columna] > limite_superior)]"
   ]
  },
  {
   "cell_type": "code",
   "execution_count": 64,
   "metadata": {},
   "outputs": [
    {
     "name": "stdout",
     "output_type": "stream",
     "text": [
      "ORDER_NUMBER\n",
      "         ORDER_ID  USER_ID  ORDER_NUMBER  ORDER_DOW  ORDER_HOUR_OF_DAY  \\\n",
      "3        1768857    82516            56          0                 20   \n",
      "18        556588     6801            63          5                 11   \n",
      "43        698527    95296            58          3                 14   \n",
      "66       3335598   183111            86          3                 15   \n",
      "92         60724   110808            78          0                 10   \n",
      "...          ...      ...           ...        ...                ...   \n",
      "478911   2599766   123746            74          6                 14   \n",
      "478929    658949   205899            86          5                 14   \n",
      "478936    256670    60258            68          0                 16   \n",
      "478937    558491     3418            54          1                 17   \n",
      "478948   2488306    68875            79          0                  9   \n",
      "\n",
      "        DAYS_SINCE_PRIOR_ORDER  \n",
      "3                         10.0  \n",
      "18                         7.0  \n",
      "43                        22.0  \n",
      "66                         1.0  \n",
      "92                         2.0  \n",
      "...                        ...  \n",
      "478911                     1.0  \n",
      "478929                     4.0  \n",
      "478936                     3.0  \n",
      "478937                     5.0  \n",
      "478948                     2.0  \n",
      "\n",
      "[30182 rows x 6 columns]\n"
     ]
    }
   ],
   "source": [
    "# Insta cart orders\n",
    "df_instacart_orders_outliers = detectar_outliers_iqr(df_instacart_orders, 'ORDER_NUMBER')\n",
    "print('ORDER_NUMBER\\n', df_instacart_orders_outliers)"
   ]
  },
  {
   "cell_type": "code",
   "execution_count": 65,
   "metadata": {},
   "outputs": [
    {
     "name": "stdout",
     "output_type": "stream",
     "text": [
      "ORDER_DOW\n",
      " Empty DataFrame\n",
      "Columns: [ORDER_ID, USER_ID, ORDER_NUMBER, ORDER_DOW, ORDER_HOUR_OF_DAY, DAYS_SINCE_PRIOR_ORDER]\n",
      "Index: []\n"
     ]
    }
   ],
   "source": [
    "df_instacart_orders_outliers = detectar_outliers_iqr(df_instacart_orders, 'ORDER_DOW')\n",
    "print('ORDER_DOW\\n', df_instacart_orders_outliers)"
   ]
  },
  {
   "cell_type": "code",
   "execution_count": 66,
   "metadata": {},
   "outputs": [
    {
     "name": "stdout",
     "output_type": "stream",
     "text": [
      "ORDER_HOUR_OF_DAY\n",
      "         ORDER_ID  USER_ID  ORDER_NUMBER  ORDER_DOW  ORDER_HOUR_OF_DAY  \\\n",
      "23       3406282    19356            21          0                  0   \n",
      "155       957214   111483            15          1                  0   \n",
      "524      3084302   132558            21          6                  0   \n",
      "639      3156097    38798            34          6                  0   \n",
      "886       983672    53782            23          0                  0   \n",
      "...          ...      ...           ...        ...                ...   \n",
      "477530   1530369   102815             6          1                  0   \n",
      "478053    686269     9959             9          2                  0   \n",
      "478054   1879829    56767             8          6                  0   \n",
      "478363   1573132    45639            30          5                  0   \n",
      "478643   2069537   162929            18          2                  0   \n",
      "\n",
      "        DAYS_SINCE_PRIOR_ORDER  \n",
      "23                        14.0  \n",
      "155                        9.0  \n",
      "524                       30.0  \n",
      "639                       12.0  \n",
      "886                        4.0  \n",
      "...                        ...  \n",
      "477530                     7.0  \n",
      "478053                     3.0  \n",
      "478054                     9.0  \n",
      "478363                     5.0  \n",
      "478643                     4.0  \n",
      "\n",
      "[3180 rows x 6 columns]\n"
     ]
    }
   ],
   "source": [
    "df_instacart_orders_outliers = detectar_outliers_iqr(df_instacart_orders, 'ORDER_HOUR_OF_DAY')\n",
    "print('ORDER_HOUR_OF_DAY\\n', df_instacart_orders_outliers)"
   ]
  },
  {
   "cell_type": "code",
   "execution_count": 67,
   "metadata": {},
   "outputs": [
    {
     "name": "stdout",
     "output_type": "stream",
     "text": [
      "DAYS_SINCE_PRIOR_ORDER\n",
      " Empty DataFrame\n",
      "Columns: [ORDER_ID, USER_ID, ORDER_NUMBER, ORDER_DOW, ORDER_HOUR_OF_DAY, DAYS_SINCE_PRIOR_ORDER]\n",
      "Index: []\n"
     ]
    }
   ],
   "source": [
    "df_instacart_orders_outliers = detectar_outliers_iqr(df_instacart_orders, 'DAYS_SINCE_PRIOR_ORDER')\n",
    "print('DAYS_SINCE_PRIOR_ORDER\\n', df_instacart_orders_outliers)"
   ]
  },
  {
   "cell_type": "code",
   "execution_count": 69,
   "metadata": {},
   "outputs": [
    {
     "data": {
      "image/png": "[encoded data removed]",
      "text/plain": [
       "<Figure size 1000x500 with 1 Axes>"
      ]
     },
     "metadata": {},
     "output_type": "display_data"
    }
   ],
   "source": [
    "# Boxplot para ORDER_NUMBER\n",
    "sns.set_style(\"whitegrid\")\n",
    "\n",
    "plt.figure(figsize=(10, 5))\n",
    "sns.boxplot(x='ORDER_NUMBER', data=df_instacart_orders, color='skyblue')\n",
    "\n",
    "plt.xlabel('Número de Pedido', fontsize=12)\n",
    "plt.title('ORDER_NUMBER', fontsize=14)\n",
    "plt.xticks(fontsize=10)\n",
    "plt.yticks(fontsize=10)\n",
    "\n",
    "plt.show()"
   ]
  },
  {
   "cell_type": "code",
   "execution_count": 70,
   "metadata": {},
   "outputs": [
    {
     "data": {
      "image/png": "[encoded data removed]",
      "text/plain": [
       "<Figure size 1000x500 with 1 Axes>"
      ]
     },
     "metadata": {},
     "output_type": "display_data"
    }
   ],
   "source": [
    "# Boxplot para ORDER_DOW\n",
    "sns.set_style(\"whitegrid\")\n",
    "\n",
    "plt.figure(figsize=(10, 5))\n",
    "sns.boxplot(x='ORDER_DOW', data=df_instacart_orders, color='skyblue')\n",
    "\n",
    "plt.xlabel('Día de la Semana', fontsize=12)\n",
    "plt.title('ORDER_DOW', fontsize=14)\n",
    "plt.xticks(fontsize=10)\n",
    "plt.yticks(fontsize=10)\n",
    "\n",
    "plt.show()"
   ]
  },
  {
   "cell_type": "code",
   "execution_count": 71,
   "metadata": {},
   "outputs": [
    {
     "name": "stdout",
     "output_type": "stream",
     "text": [
      "ADD_TO_CART_ORDER\n",
      "          ORDER_ID  PRODUCT_ID  ADD_TO_CART_ORDER  REORDERED\n",
      "4         2049210       36389               24.0          1\n",
      "9         1459225       19156               34.0          0\n",
      "19        1248338       31066               36.0          0\n",
      "35         400595       46226               33.0          0\n",
      "86        2304774       34358               25.0          1\n",
      "...           ...         ...                ...        ...\n",
      "4544925     58307        8415               32.0          0\n",
      "4544926   1821952       14678               25.0          0\n",
      "4544955   1722011       32927               45.0          0\n",
      "4544986    448886       32605               24.0          1\n",
      "4545001    330351       39442               29.0          0\n",
      "\n",
      "[190971 rows x 4 columns]\n"
     ]
    }
   ],
   "source": [
    "# order_products\n",
    "df_order_products_outliers = detectar_outliers_iqr(df_order_products, 'ADD_TO_CART_ORDER')\n",
    "print('ADD_TO_CART_ORDER\\n', df_order_products_outliers)"
   ]
  },
  {
   "cell_type": "code",
   "execution_count": 72,
   "metadata": {},
   "outputs": [
    {
     "data": {
      "image/png": "[encoded data removed]",
      "text/plain": [
       "<Figure size 1000x500 with 1 Axes>"
      ]
     },
     "metadata": {},
     "output_type": "display_data"
    }
   ],
   "source": [
    "# boxplot para ADD_TO_CART_ORDER\n",
    "sns.set_style(\"whitegrid\")\n",
    "\n",
    "plt.figure(figsize=(10, 5))\n",
    "sns.boxplot(x='ADD_TO_CART_ORDER', data=df_order_products, color='skyblue')\n",
    "\n",
    "plt.xlabel('Orden de Agregado al Carrito', fontsize=12)\n",
    "plt.title('ADD_TO_CART_ORDER', fontsize=14)\n",
    "plt.xticks(fontsize=10)\n",
    "plt.yticks(fontsize=10)\n",
    "\n",
    "plt.show()"
   ]
  },
  {
   "cell_type": "markdown",
   "metadata": {},
   "source": [
    "## Conclusiones"
   ]
  },
  {
   "cell_type": "markdown",
   "metadata": {},
   "source": [
    "En la tabla INSTACART_ORDERS, la columna DAYS_SINCE_PRIOR_ORDER tiene 28819 valores nulos.\n",
    "En la tabla ORDER_PRODUCTS, la columna ADD_TO_CART_ORDER tiene 836 valores nulos.\n",
    "En la tabla PRODUCTS, la columna PRODUCT_NAME tiene 1258 valores nulos. \n",
    "\n",
    "Se encontraron 15 registros duplicados en la tabla INSTACART_ORDERS.\n",
    "No se encontraron duplicados en las demás tablas.\n",
    "\n",
    "DAYS_SINCE_PRIOR_ORDER y ADD_TO_CART_ORDER deberían ser enteros (int), pero aparecen como float, lo que puede indicar valores incorrectos.\n",
    "\n",
    "ORDER_NUMBER y ADD_TO_CART_ORDER parecen tener valorees outliers, pero en mi opinión no lo son.\n",
    "La mayoría de las órdenes ocurren entre las 9:00 y las 16:00 horas.\n",
    "Los pedidos más frecuentes ocurren entre el día 0 y el día 7 desde la última compra."
   ]
  },
  {
   "cell_type": "markdown",
   "metadata": {},
   "source": [
    "### Valores Esperados"
   ]
  },
  {
   "cell_type": "code",
   "execution_count": 81,
   "metadata": {},
   "outputs": [
    {
     "data": {
      "text/html": [
       "<div>\n",
       "<style scoped>\n",
       "    .dataframe tbody tr th:only-of-type {\n",
       "        vertical-align: middle;\n",
       "    }\n",
       "\n",
       "    .dataframe tbody tr th {\n",
       "        vertical-align: top;\n",
       "    }\n",
       "\n",
       "    .dataframe thead th {\n",
       "        text-align: right;\n",
       "    }\n",
       "</style>\n",
       "<table border=\"1\" class=\"dataframe\">\n",
       "  <thead>\n",
       "    <tr style=\"text-align: right;\">\n",
       "      <th></th>\n",
       "      <th>ORDER_ID</th>\n",
       "      <th>USER_ID</th>\n",
       "      <th>ORDER_NUMBER</th>\n",
       "      <th>ORDER_DOW</th>\n",
       "      <th>ORDER_HOUR_OF_DAY</th>\n",
       "      <th>DAYS_SINCE_PRIOR_ORDER</th>\n",
       "    </tr>\n",
       "  </thead>\n",
       "  <tbody>\n",
       "    <tr>\n",
       "      <th>0</th>\n",
       "      <td>1515936</td>\n",
       "      <td>183418</td>\n",
       "      <td>11</td>\n",
       "      <td>6</td>\n",
       "      <td>13</td>\n",
       "      <td>30.0</td>\n",
       "    </tr>\n",
       "    <tr>\n",
       "      <th>1</th>\n",
       "      <td>1690866</td>\n",
       "      <td>163593</td>\n",
       "      <td>5</td>\n",
       "      <td>5</td>\n",
       "      <td>12</td>\n",
       "      <td>9.0</td>\n",
       "    </tr>\n",
       "    <tr>\n",
       "      <th>2</th>\n",
       "      <td>1454967</td>\n",
       "      <td>39980</td>\n",
       "      <td>4</td>\n",
       "      <td>5</td>\n",
       "      <td>19</td>\n",
       "      <td>2.0</td>\n",
       "    </tr>\n",
       "    <tr>\n",
       "      <th>3</th>\n",
       "      <td>1768857</td>\n",
       "      <td>82516</td>\n",
       "      <td>56</td>\n",
       "      <td>0</td>\n",
       "      <td>20</td>\n",
       "      <td>10.0</td>\n",
       "    </tr>\n",
       "    <tr>\n",
       "      <th>4</th>\n",
       "      <td>3007858</td>\n",
       "      <td>196724</td>\n",
       "      <td>2</td>\n",
       "      <td>4</td>\n",
       "      <td>12</td>\n",
       "      <td>17.0</td>\n",
       "    </tr>\n",
       "    <tr>\n",
       "      <th>...</th>\n",
       "      <td>...</td>\n",
       "      <td>...</td>\n",
       "      <td>...</td>\n",
       "      <td>...</td>\n",
       "      <td>...</td>\n",
       "      <td>...</td>\n",
       "    </tr>\n",
       "    <tr>\n",
       "      <th>478962</th>\n",
       "      <td>3210681</td>\n",
       "      <td>5617</td>\n",
       "      <td>5</td>\n",
       "      <td>1</td>\n",
       "      <td>14</td>\n",
       "      <td>7.0</td>\n",
       "    </tr>\n",
       "    <tr>\n",
       "      <th>478963</th>\n",
       "      <td>3270802</td>\n",
       "      <td>112087</td>\n",
       "      <td>2</td>\n",
       "      <td>3</td>\n",
       "      <td>13</td>\n",
       "      <td>6.0</td>\n",
       "    </tr>\n",
       "    <tr>\n",
       "      <th>478964</th>\n",
       "      <td>885349</td>\n",
       "      <td>82944</td>\n",
       "      <td>16</td>\n",
       "      <td>2</td>\n",
       "      <td>11</td>\n",
       "      <td>6.0</td>\n",
       "    </tr>\n",
       "    <tr>\n",
       "      <th>478965</th>\n",
       "      <td>216274</td>\n",
       "      <td>4391</td>\n",
       "      <td>3</td>\n",
       "      <td>3</td>\n",
       "      <td>8</td>\n",
       "      <td>8.0</td>\n",
       "    </tr>\n",
       "    <tr>\n",
       "      <th>478966</th>\n",
       "      <td>2071924</td>\n",
       "      <td>1730</td>\n",
       "      <td>18</td>\n",
       "      <td>1</td>\n",
       "      <td>14</td>\n",
       "      <td>15.0</td>\n",
       "    </tr>\n",
       "  </tbody>\n",
       "</table>\n",
       "<p>478967 rows × 6 columns</p>\n",
       "</div>"
      ],
      "text/plain": [
       "        ORDER_ID  USER_ID  ORDER_NUMBER  ORDER_DOW  ORDER_HOUR_OF_DAY  \\\n",
       "0        1515936   183418            11          6                 13   \n",
       "1        1690866   163593             5          5                 12   \n",
       "2        1454967    39980             4          5                 19   \n",
       "3        1768857    82516            56          0                 20   \n",
       "4        3007858   196724             2          4                 12   \n",
       "...          ...      ...           ...        ...                ...   \n",
       "478962   3210681     5617             5          1                 14   \n",
       "478963   3270802   112087             2          3                 13   \n",
       "478964    885349    82944            16          2                 11   \n",
       "478965    216274     4391             3          3                  8   \n",
       "478966   2071924     1730            18          1                 14   \n",
       "\n",
       "        DAYS_SINCE_PRIOR_ORDER  \n",
       "0                         30.0  \n",
       "1                          9.0  \n",
       "2                          2.0  \n",
       "3                         10.0  \n",
       "4                         17.0  \n",
       "...                        ...  \n",
       "478962                     7.0  \n",
       "478963                     6.0  \n",
       "478964                     6.0  \n",
       "478965                     8.0  \n",
       "478966                    15.0  \n",
       "\n",
       "[478967 rows x 6 columns]"
      ]
     },
     "execution_count": 81,
     "metadata": {},
     "output_type": "execute_result"
    }
   ],
   "source": [
    "df_instacart_orders['DAYS_SINCE_PRIOR_ORDER'] = df_instacart_orders['DAYS_SINCE_PRIOR_ORDER'].fillna(0)\n",
    "df_instacart_orders"
   ]
  },
  {
   "cell_type": "code",
   "execution_count": 80,
   "metadata": {},
   "outputs": [
    {
     "data": {
      "text/html": [
       "<div>\n",
       "<style scoped>\n",
       "    .dataframe tbody tr th:only-of-type {\n",
       "        vertical-align: middle;\n",
       "    }\n",
       "\n",
       "    .dataframe tbody tr th {\n",
       "        vertical-align: top;\n",
       "    }\n",
       "\n",
       "    .dataframe thead th {\n",
       "        text-align: right;\n",
       "    }\n",
       "</style>\n",
       "<table border=\"1\" class=\"dataframe\">\n",
       "  <thead>\n",
       "    <tr style=\"text-align: right;\">\n",
       "      <th></th>\n",
       "      <th>ORDER_ID</th>\n",
       "      <th>PRODUCT_ID</th>\n",
       "      <th>ADD_TO_CART_ORDER</th>\n",
       "      <th>REORDERED</th>\n",
       "    </tr>\n",
       "  </thead>\n",
       "  <tbody>\n",
       "    <tr>\n",
       "      <th>0</th>\n",
       "      <td>3014714</td>\n",
       "      <td>29805</td>\n",
       "      <td>21.0</td>\n",
       "      <td>1</td>\n",
       "    </tr>\n",
       "    <tr>\n",
       "      <th>1</th>\n",
       "      <td>1626538</td>\n",
       "      <td>47766</td>\n",
       "      <td>5.0</td>\n",
       "      <td>1</td>\n",
       "    </tr>\n",
       "    <tr>\n",
       "      <th>2</th>\n",
       "      <td>1785042</td>\n",
       "      <td>42460</td>\n",
       "      <td>20.0</td>\n",
       "      <td>0</td>\n",
       "    </tr>\n",
       "    <tr>\n",
       "      <th>3</th>\n",
       "      <td>2894562</td>\n",
       "      <td>35951</td>\n",
       "      <td>5.0</td>\n",
       "      <td>1</td>\n",
       "    </tr>\n",
       "    <tr>\n",
       "      <th>4</th>\n",
       "      <td>2049210</td>\n",
       "      <td>36389</td>\n",
       "      <td>24.0</td>\n",
       "      <td>1</td>\n",
       "    </tr>\n",
       "    <tr>\n",
       "      <th>...</th>\n",
       "      <td>...</td>\n",
       "      <td>...</td>\n",
       "      <td>...</td>\n",
       "      <td>...</td>\n",
       "    </tr>\n",
       "    <tr>\n",
       "      <th>4545002</th>\n",
       "      <td>2708004</td>\n",
       "      <td>40145</td>\n",
       "      <td>2.0</td>\n",
       "      <td>1</td>\n",
       "    </tr>\n",
       "    <tr>\n",
       "      <th>4545003</th>\n",
       "      <td>1608534</td>\n",
       "      <td>27966</td>\n",
       "      <td>3.0</td>\n",
       "      <td>1</td>\n",
       "    </tr>\n",
       "    <tr>\n",
       "      <th>4545004</th>\n",
       "      <td>135749</td>\n",
       "      <td>13834</td>\n",
       "      <td>2.0</td>\n",
       "      <td>1</td>\n",
       "    </tr>\n",
       "    <tr>\n",
       "      <th>4545005</th>\n",
       "      <td>2000291</td>\n",
       "      <td>24964</td>\n",
       "      <td>3.0</td>\n",
       "      <td>1</td>\n",
       "    </tr>\n",
       "    <tr>\n",
       "      <th>4545006</th>\n",
       "      <td>2116752</td>\n",
       "      <td>23094</td>\n",
       "      <td>8.0</td>\n",
       "      <td>1</td>\n",
       "    </tr>\n",
       "  </tbody>\n",
       "</table>\n",
       "<p>4544171 rows × 4 columns</p>\n",
       "</div>"
      ],
      "text/plain": [
       "         ORDER_ID  PRODUCT_ID  ADD_TO_CART_ORDER  REORDERED\n",
       "0         3014714       29805               21.0          1\n",
       "1         1626538       47766                5.0          1\n",
       "2         1785042       42460               20.0          0\n",
       "3         2894562       35951                5.0          1\n",
       "4         2049210       36389               24.0          1\n",
       "...           ...         ...                ...        ...\n",
       "4545002   2708004       40145                2.0          1\n",
       "4545003   1608534       27966                3.0          1\n",
       "4545004    135749       13834                2.0          1\n",
       "4545005   2000291       24964                3.0          1\n",
       "4545006   2116752       23094                8.0          1\n",
       "\n",
       "[4544171 rows x 4 columns]"
      ]
     },
     "execution_count": 80,
     "metadata": {},
     "output_type": "execute_result"
    }
   ],
   "source": [
    "df_order_products = df_order_products.dropna(subset=['ADD_TO_CART_ORDER'])\n",
    "df_order_products"
   ]
  },
  {
   "cell_type": "code",
   "execution_count": 82,
   "metadata": {},
   "outputs": [
    {
     "data": {
      "text/html": [
       "<div>\n",
       "<style scoped>\n",
       "    .dataframe tbody tr th:only-of-type {\n",
       "        vertical-align: middle;\n",
       "    }\n",
       "\n",
       "    .dataframe tbody tr th {\n",
       "        vertical-align: top;\n",
       "    }\n",
       "\n",
       "    .dataframe thead th {\n",
       "        text-align: right;\n",
       "    }\n",
       "</style>\n",
       "<table border=\"1\" class=\"dataframe\">\n",
       "  <thead>\n",
       "    <tr style=\"text-align: right;\">\n",
       "      <th></th>\n",
       "      <th>PRODUCT_ID</th>\n",
       "      <th>PRODUCT_NAME</th>\n",
       "      <th>AISLE_ID</th>\n",
       "      <th>DEPARTMENT_ID</th>\n",
       "    </tr>\n",
       "  </thead>\n",
       "  <tbody>\n",
       "    <tr>\n",
       "      <th>0</th>\n",
       "      <td>1</td>\n",
       "      <td>Chocolate Sandwich Cookies</td>\n",
       "      <td>61</td>\n",
       "      <td>19</td>\n",
       "    </tr>\n",
       "    <tr>\n",
       "      <th>1</th>\n",
       "      <td>2</td>\n",
       "      <td>All-Seasons Salt</td>\n",
       "      <td>104</td>\n",
       "      <td>13</td>\n",
       "    </tr>\n",
       "    <tr>\n",
       "      <th>2</th>\n",
       "      <td>3</td>\n",
       "      <td>Robust Golden Unsweetened Oolong Tea</td>\n",
       "      <td>94</td>\n",
       "      <td>7</td>\n",
       "    </tr>\n",
       "    <tr>\n",
       "      <th>3</th>\n",
       "      <td>4</td>\n",
       "      <td>Smart Ones Classic Favorites Mini Rigatoni Wit...</td>\n",
       "      <td>38</td>\n",
       "      <td>1</td>\n",
       "    </tr>\n",
       "    <tr>\n",
       "      <th>4</th>\n",
       "      <td>5</td>\n",
       "      <td>Green Chile Anytime Sauce</td>\n",
       "      <td>5</td>\n",
       "      <td>13</td>\n",
       "    </tr>\n",
       "    <tr>\n",
       "      <th>...</th>\n",
       "      <td>...</td>\n",
       "      <td>...</td>\n",
       "      <td>...</td>\n",
       "      <td>...</td>\n",
       "    </tr>\n",
       "    <tr>\n",
       "      <th>49689</th>\n",
       "      <td>49690</td>\n",
       "      <td>HIGH PERFORMANCE ENERGY DRINK</td>\n",
       "      <td>64</td>\n",
       "      <td>7</td>\n",
       "    </tr>\n",
       "    <tr>\n",
       "      <th>49690</th>\n",
       "      <td>49691</td>\n",
       "      <td>ORIGINAL PANCAKE &amp; WAFFLE MIX</td>\n",
       "      <td>130</td>\n",
       "      <td>14</td>\n",
       "    </tr>\n",
       "    <tr>\n",
       "      <th>49691</th>\n",
       "      <td>49692</td>\n",
       "      <td>ORGANIC INSTANT OATMEAL LIGHT MAPLE BROWN SUGAR</td>\n",
       "      <td>130</td>\n",
       "      <td>14</td>\n",
       "    </tr>\n",
       "    <tr>\n",
       "      <th>49692</th>\n",
       "      <td>49693</td>\n",
       "      <td>SPRING WATER BODY WASH</td>\n",
       "      <td>127</td>\n",
       "      <td>11</td>\n",
       "    </tr>\n",
       "    <tr>\n",
       "      <th>49693</th>\n",
       "      <td>49694</td>\n",
       "      <td>BURRITO- STEAK &amp; CHEESE</td>\n",
       "      <td>38</td>\n",
       "      <td>1</td>\n",
       "    </tr>\n",
       "  </tbody>\n",
       "</table>\n",
       "<p>49694 rows × 4 columns</p>\n",
       "</div>"
      ],
      "text/plain": [
       "       PRODUCT_ID                                       PRODUCT_NAME  \\\n",
       "0               1                         Chocolate Sandwich Cookies   \n",
       "1               2                                   All-Seasons Salt   \n",
       "2               3               Robust Golden Unsweetened Oolong Tea   \n",
       "3               4  Smart Ones Classic Favorites Mini Rigatoni Wit...   \n",
       "4               5                          Green Chile Anytime Sauce   \n",
       "...           ...                                                ...   \n",
       "49689       49690                      HIGH PERFORMANCE ENERGY DRINK   \n",
       "49690       49691                      ORIGINAL PANCAKE & WAFFLE MIX   \n",
       "49691       49692    ORGANIC INSTANT OATMEAL LIGHT MAPLE BROWN SUGAR   \n",
       "49692       49693                             SPRING WATER BODY WASH   \n",
       "49693       49694                            BURRITO- STEAK & CHEESE   \n",
       "\n",
       "       AISLE_ID  DEPARTMENT_ID  \n",
       "0            61             19  \n",
       "1           104             13  \n",
       "2            94              7  \n",
       "3            38              1  \n",
       "4             5             13  \n",
       "...         ...            ...  \n",
       "49689        64              7  \n",
       "49690       130             14  \n",
       "49691       130             14  \n",
       "49692       127             11  \n",
       "49693        38              1  \n",
       "\n",
       "[49694 rows x 4 columns]"
      ]
     },
     "execution_count": 82,
     "metadata": {},
     "output_type": "execute_result"
    }
   ],
   "source": [
    "df_products"
   ]
  }
 ],
 "metadata": {
  "kernelspec": {
   "display_name": "dataMining",
   "language": "python",
   "name": "python3"
  },
  "language_info": {
   "codemirror_mode": {
    "name": "ipython",
    "version": 3
   },
   "file_extension": ".py",
   "mimetype": "text/x-python",
   "name": "python",
   "nbconvert_exporter": "python",
   "pygments_lexer": "ipython3",
   "version": "3.9.21"
  }
 },
 "nbformat": 4,
 "nbformat_minor": 2
}
