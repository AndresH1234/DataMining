{
 "cells": [
  {
   "cell_type": "markdown",
   "metadata": {},
   "source": [
    "### EDA"
   ]
  },
  {
   "cell_type": "code",
   "execution_count": null,
   "metadata": {},
   "outputs": [],
   "source": [
    "import pandas as pd\n",
    "import matplotlib.pyplot as plt"
   ]
  },
  {
   "cell_type": "code",
   "execution_count": 2,
   "metadata": {},
   "outputs": [],
   "source": [
    "# Cargar el archivo CSV\n",
    "df_calls = pd.read_csv(\"../data/raw/megaline_calls.csv\")\n",
    "df_internet = pd.read_csv(\"../data/raw/megaline_internet.csv\")\n",
    "df_messages = pd.read_csv(\"../data/raw/megaline_messages.csv\")\n",
    "df_plans = pd.read_csv(\"../data/raw/megaline_plans.csv\")\n",
    "df_users = pd.read_csv(\"../data/raw/megaline_users.csv\")"
   ]
  },
  {
   "cell_type": "markdown",
   "metadata": {},
   "source": [
    "## Calidad de los datos"
   ]
  },
  {
   "cell_type": "code",
   "execution_count": 35,
   "metadata": {},
   "outputs": [
    {
     "name": "stdout",
     "output_type": "stream",
     "text": [
      "Calls:  (137735, 5)\n",
      "Internet:  (104825, 5)\n",
      "Messages:  (76051, 4)\n",
      "Plans:  (2, 8)\n",
      "Users:  (500, 8)\n"
     ]
    }
   ],
   "source": [
    "# Shape de los dataframes\n",
    "print(\"Calls: \", df_calls.shape)\n",
    "print(\"Internet: \", df_internet.shape)\n",
    "print(\"Messages: \", df_messages.shape)\n",
    "print(\"Plans: \", df_plans.shape)\n",
    "print(\"Users: \", df_users.shape)"
   ]
  },
  {
   "cell_type": "code",
   "execution_count": 3,
   "metadata": {},
   "outputs": [
    {
     "name": "stdout",
     "output_type": "stream",
     "text": [
      "Calls\n",
      "Index(['id', 'user_id', 'call_date', 'duration'], dtype='object')\n",
      "Internet\n",
      "Index(['id', 'user_id', 'session_date', 'mb_used'], dtype='object')\n",
      "Messages\n",
      "Index(['id', 'user_id', 'message_date'], dtype='object')\n",
      "Plans\n",
      "Index(['messages_included', 'mb_per_month_included', 'minutes_included',\n",
      "       'usd_monthly_pay', 'usd_per_gb', 'usd_per_message', 'usd_per_minute',\n",
      "       'plan_name'],\n",
      "      dtype='object')\n",
      "Users\n",
      "Index(['user_id', 'first_name', 'last_name', 'age', 'city', 'reg_date', 'plan',\n",
      "       'churn_date'],\n",
      "      dtype='object')\n"
     ]
    }
   ],
   "source": [
    "# Columnas de los DataFrames\n",
    "print(\"Calls\")\n",
    "print(df_calls.columns)\n",
    "print(\"Internet\")\n",
    "print(df_internet.columns)\n",
    "print(\"Messages\")\n",
    "print(df_messages.columns)\n",
    "print(\"Plans\")\n",
    "print(df_plans.columns)\n",
    "print(\"Users\")\n",
    "print(df_users.columns)"
   ]
  },
  {
   "cell_type": "code",
   "execution_count": 4,
   "metadata": {},
   "outputs": [
    {
     "name": "stdout",
     "output_type": "stream",
     "text": [
      "         id  user_id   call_date  duration\n",
      "0   1000_93     1000  2018-12-27      8.52\n",
      "1  1000_145     1000  2018-12-27     13.66\n",
      "2  1000_247     1000  2018-12-27     14.48\n",
      "3  1000_309     1000  2018-12-28      5.76\n",
      "4  1000_380     1000  2018-12-30      4.22\n",
      "         id  user_id session_date  mb_used\n",
      "0   1000_13     1000   2018-12-29    89.86\n",
      "1  1000_204     1000   2018-12-31     0.00\n",
      "2  1000_379     1000   2018-12-28   660.40\n",
      "3  1000_413     1000   2018-12-26   270.99\n",
      "4  1000_442     1000   2018-12-27   880.22\n",
      "         id  user_id message_date\n",
      "0  1000_125     1000   2018-12-27\n",
      "1  1000_160     1000   2018-12-31\n",
      "2  1000_223     1000   2018-12-31\n",
      "3  1000_251     1000   2018-12-27\n",
      "4  1000_255     1000   2018-12-26\n",
      "   messages_included  mb_per_month_included  minutes_included  \\\n",
      "0                 50                  15360               500   \n",
      "1               1000                  30720              3000   \n",
      "\n",
      "   usd_monthly_pay  usd_per_gb  usd_per_message  usd_per_minute plan_name  \n",
      "0               20          10             0.03            0.03      surf  \n",
      "1               70           7             0.01            0.01  ultimate  \n",
      "   user_id first_name  last_name  age                                   city  \\\n",
      "0     1000   Anamaria      Bauer   45  Atlanta-Sandy Springs-Roswell, GA MSA   \n",
      "1     1001     Mickey  Wilkerson   28        Seattle-Tacoma-Bellevue, WA MSA   \n",
      "2     1002     Carlee    Hoffman   36   Las Vegas-Henderson-Paradise, NV MSA   \n",
      "3     1003   Reynaldo    Jenkins   52                          Tulsa, OK MSA   \n",
      "4     1004    Leonila   Thompson   40        Seattle-Tacoma-Bellevue, WA MSA   \n",
      "\n",
      "     reg_date      plan churn_date  \n",
      "0  2018-12-24  ultimate        NaN  \n",
      "1  2018-08-13      surf        NaN  \n",
      "2  2018-10-21      surf        NaN  \n",
      "3  2018-01-28      surf        NaN  \n",
      "4  2018-05-23      surf        NaN  \n"
     ]
    }
   ],
   "source": [
    "# Mostrar las primeras filas de cada archivo\n",
    "print(df_calls.head())\n",
    "print(df_internet.head())\n",
    "print(df_messages.head())\n",
    "print(df_plans.head())\n",
    "print(df_users.head())"
   ]
  },
  {
   "cell_type": "code",
   "execution_count": 5,
   "metadata": {},
   "outputs": [
    {
     "name": "stdout",
     "output_type": "stream",
     "text": [
      "Calls\n",
      "<class 'pandas.core.frame.DataFrame'>\n",
      "RangeIndex: 137735 entries, 0 to 137734\n",
      "Data columns (total 4 columns):\n",
      " #   Column     Non-Null Count   Dtype  \n",
      "---  ------     --------------   -----  \n",
      " 0   id         137735 non-null  object \n",
      " 1   user_id    137735 non-null  int64  \n",
      " 2   call_date  137735 non-null  object \n",
      " 3   duration   137735 non-null  float64\n",
      "dtypes: float64(1), int64(1), object(2)\n",
      "memory usage: 4.2+ MB\n",
      "None\n",
      "Internet\n",
      "<class 'pandas.core.frame.DataFrame'>\n",
      "RangeIndex: 104825 entries, 0 to 104824\n",
      "Data columns (total 4 columns):\n",
      " #   Column        Non-Null Count   Dtype  \n",
      "---  ------        --------------   -----  \n",
      " 0   id            104825 non-null  object \n",
      " 1   user_id       104825 non-null  int64  \n",
      " 2   session_date  104825 non-null  object \n",
      " 3   mb_used       104825 non-null  float64\n",
      "dtypes: float64(1), int64(1), object(2)\n",
      "memory usage: 3.2+ MB\n",
      "None\n",
      "Messages\n",
      "<class 'pandas.core.frame.DataFrame'>\n",
      "RangeIndex: 76051 entries, 0 to 76050\n",
      "Data columns (total 3 columns):\n",
      " #   Column        Non-Null Count  Dtype \n",
      "---  ------        --------------  ----- \n",
      " 0   id            76051 non-null  object\n",
      " 1   user_id       76051 non-null  int64 \n",
      " 2   message_date  76051 non-null  object\n",
      "dtypes: int64(1), object(2)\n",
      "memory usage: 1.7+ MB\n",
      "None\n",
      "Plans\n",
      "<class 'pandas.core.frame.DataFrame'>\n",
      "RangeIndex: 2 entries, 0 to 1\n",
      "Data columns (total 8 columns):\n",
      " #   Column                 Non-Null Count  Dtype  \n",
      "---  ------                 --------------  -----  \n",
      " 0   messages_included      2 non-null      int64  \n",
      " 1   mb_per_month_included  2 non-null      int64  \n",
      " 2   minutes_included       2 non-null      int64  \n",
      " 3   usd_monthly_pay        2 non-null      int64  \n",
      " 4   usd_per_gb             2 non-null      int64  \n",
      " 5   usd_per_message        2 non-null      float64\n",
      " 6   usd_per_minute         2 non-null      float64\n",
      " 7   plan_name              2 non-null      object \n",
      "dtypes: float64(2), int64(5), object(1)\n",
      "memory usage: 256.0+ bytes\n",
      "None\n",
      "Users\n",
      "<class 'pandas.core.frame.DataFrame'>\n",
      "RangeIndex: 500 entries, 0 to 499\n",
      "Data columns (total 8 columns):\n",
      " #   Column      Non-Null Count  Dtype \n",
      "---  ------      --------------  ----- \n",
      " 0   user_id     500 non-null    int64 \n",
      " 1   first_name  500 non-null    object\n",
      " 2   last_name   500 non-null    object\n",
      " 3   age         500 non-null    int64 \n",
      " 4   city        500 non-null    object\n",
      " 5   reg_date    500 non-null    object\n",
      " 6   plan        500 non-null    object\n",
      " 7   churn_date  34 non-null     object\n",
      "dtypes: int64(2), object(6)\n",
      "memory usage: 31.4+ KB\n",
      "None\n"
     ]
    }
   ],
   "source": [
    "# Info\n",
    "print(\"Calls\")\n",
    "print(df_calls.info())\n",
    "print(\"Internet\")\n",
    "print(df_internet.info())\n",
    "print(\"Messages\")\n",
    "print(df_messages.info())\n",
    "print(\"Plans\")\n",
    "print(df_plans.info())\n",
    "print(\"Users\")\n",
    "print(df_users.info())\n",
    "\n"
   ]
  },
  {
   "cell_type": "code",
   "execution_count": 6,
   "metadata": {},
   "outputs": [],
   "source": [
    "# Pasar Dates a datetime\n",
    "df_calls[\"call_date\"] = pd.to_datetime(df_calls[\"call_date\"])\n",
    "df_internet[\"session_date\"] = pd.to_datetime(df_internet[\"session_date\"])\n",
    "df_messages[\"message_date\"] = pd.to_datetime(df_messages[\"message_date\"])\n",
    "df_users[\"churn_date\"] = pd.to_datetime(df_users[\"churn_date\"])"
   ]
  },
  {
   "cell_type": "code",
   "execution_count": 7,
   "metadata": {},
   "outputs": [
    {
     "name": "stdout",
     "output_type": "stream",
     "text": [
      "Calls\n",
      "             user_id                      call_date       duration\n",
      "count  137735.000000                         137735  137735.000000\n",
      "mean     1247.658046  2018-09-25 19:57:56.319018496       6.745927\n",
      "min      1000.000000            2018-01-15 00:00:00       0.000000\n",
      "25%      1128.000000            2018-08-08 00:00:00       1.290000\n",
      "50%      1247.000000            2018-10-12 00:00:00       5.980000\n",
      "75%      1365.000000            2018-11-26 00:00:00      10.690000\n",
      "max      1499.000000            2018-12-31 00:00:00      37.600000\n",
      "std       139.416268                            NaN       5.839241\n",
      "Internet\n",
      "             user_id                   session_date        mb_used\n",
      "count  104825.000000                         104825  104825.000000\n",
      "mean     1242.496361  2018-09-26 11:37:55.048890880     366.713701\n",
      "min      1000.000000            2018-01-15 00:00:00       0.000000\n",
      "25%      1122.000000            2018-08-11 00:00:00     136.080000\n",
      "50%      1236.000000            2018-10-13 00:00:00     343.980000\n",
      "75%      1367.000000            2018-11-27 00:00:00     554.610000\n",
      "max      1499.000000            2018-12-31 00:00:00    1693.470000\n",
      "std       142.053913                            NaN     277.170542\n",
      "Messages\n",
      "            user_id                   message_date\n",
      "count  76051.000000                          76051\n",
      "mean    1245.972768  2018-10-03 23:51:32.172358144\n",
      "min     1000.000000            2018-01-15 00:00:00\n",
      "25%     1123.000000            2018-08-22 00:00:00\n",
      "50%     1251.000000            2018-10-20 00:00:00\n",
      "75%     1362.000000            2018-12-01 00:00:00\n",
      "max     1497.000000            2018-12-31 00:00:00\n",
      "std      139.843635                            NaN\n",
      "Plans\n",
      "       messages_included  mb_per_month_included  minutes_included  \\\n",
      "count           2.000000               2.000000          2.000000   \n",
      "mean          525.000000           23040.000000       1750.000000   \n",
      "std           671.751442           10861.160159       1767.766953   \n",
      "min            50.000000           15360.000000        500.000000   \n",
      "25%           287.500000           19200.000000       1125.000000   \n",
      "50%           525.000000           23040.000000       1750.000000   \n",
      "75%           762.500000           26880.000000       2375.000000   \n",
      "max          1000.000000           30720.000000       3000.000000   \n",
      "\n",
      "       usd_monthly_pay  usd_per_gb  usd_per_message  usd_per_minute  \n",
      "count         2.000000     2.00000         2.000000        2.000000  \n",
      "mean         45.000000     8.50000         0.020000        0.020000  \n",
      "std          35.355339     2.12132         0.014142        0.014142  \n",
      "min          20.000000     7.00000         0.010000        0.010000  \n",
      "25%          32.500000     7.75000         0.015000        0.015000  \n",
      "50%          45.000000     8.50000         0.020000        0.020000  \n",
      "75%          57.500000     9.25000         0.025000        0.025000  \n",
      "max          70.000000    10.00000         0.030000        0.030000  \n",
      "Users\n",
      "           user_id         age                     churn_date\n",
      "count   500.000000  500.000000                             34\n",
      "mean   1249.500000   45.486000  2018-11-10 22:35:17.647058944\n",
      "min    1000.000000   18.000000            2018-07-31 00:00:00\n",
      "25%    1124.750000   30.000000            2018-10-08 12:00:00\n",
      "50%    1249.500000   46.000000            2018-11-22 12:00:00\n",
      "75%    1374.250000   61.000000            2018-12-18 00:00:00\n",
      "max    1499.000000   75.000000            2018-12-31 00:00:00\n",
      "std     144.481833   16.972269                            NaN\n"
     ]
    }
   ],
   "source": [
    "# Descripción\n",
    "print(\"Calls\")\n",
    "print(df_calls.describe())\n",
    "print(\"Internet\")\n",
    "print(df_internet.describe())\n",
    "print(\"Messages\")\n",
    "print(df_messages.describe())\n",
    "print(\"Plans\")\n",
    "print(df_plans.describe())\n",
    "print(\"Users\")\n",
    "print(df_users.describe())"
   ]
  },
  {
   "cell_type": "code",
   "execution_count": 8,
   "metadata": {},
   "outputs": [
    {
     "name": "stdout",
     "output_type": "stream",
     "text": [
      "[ 8.52 13.66 14.48 ... 27.53 22.57 25.18]\n",
      "<DatetimeArray>\n",
      "['2018-12-27 00:00:00', '2018-12-28 00:00:00', '2018-12-30 00:00:00',\n",
      " '2018-12-31 00:00:00', '2018-12-26 00:00:00', '2018-12-29 00:00:00',\n",
      " '2018-09-06 00:00:00', '2018-10-12 00:00:00', '2018-10-17 00:00:00',\n",
      " '2018-12-05 00:00:00',\n",
      " ...\n",
      " '2018-02-26 00:00:00', '2018-02-10 00:00:00', '2018-02-19 00:00:00',\n",
      " '2018-02-18 00:00:00', '2018-02-21 00:00:00', '2018-01-24 00:00:00',\n",
      " '2018-02-20 00:00:00', '2018-02-28 00:00:00', '2018-01-26 00:00:00',\n",
      " '2018-01-21 00:00:00']\n",
      "Length: 351, dtype: datetime64[ns]\n"
     ]
    }
   ],
   "source": [
    "# Valores Unicos Calls\n",
    "print(df_calls['duration'].unique())\n",
    "print(df_calls['call_date'].unique())"
   ]
  },
  {
   "cell_type": "code",
   "execution_count": 9,
   "metadata": {},
   "outputs": [
    {
     "name": "stdout",
     "output_type": "stream",
     "text": [
      "[ 89.86   0.   660.4  ... 753.43 304.72 758.31]\n",
      "<DatetimeArray>\n",
      "['2018-12-29 00:00:00', '2018-12-31 00:00:00', '2018-12-28 00:00:00',\n",
      " '2018-12-26 00:00:00', '2018-12-27 00:00:00', '2018-08-24 00:00:00',\n",
      " '2018-12-09 00:00:00', '2018-11-04 00:00:00', '2018-11-27 00:00:00',\n",
      " '2018-12-13 00:00:00',\n",
      " ...\n",
      " '2018-02-17 00:00:00', '2018-01-23 00:00:00', '2018-02-10 00:00:00',\n",
      " '2018-02-15 00:00:00', '2018-02-14 00:00:00', '2018-02-08 00:00:00',\n",
      " '2018-02-09 00:00:00', '2018-01-28 00:00:00', '2018-02-21 00:00:00',\n",
      " '2018-01-18 00:00:00']\n",
      "Length: 351, dtype: datetime64[ns]\n"
     ]
    }
   ],
   "source": [
    "# Valores Unicos Internet\n",
    "print(df_internet['mb_used'].unique())\n",
    "print(df_internet['session_date'].unique())\n"
   ]
  },
  {
   "cell_type": "code",
   "execution_count": 10,
   "metadata": {},
   "outputs": [
    {
     "name": "stdout",
     "output_type": "stream",
     "text": [
      "<DatetimeArray>\n",
      "['2018-12-27 00:00:00', '2018-12-31 00:00:00', '2018-12-26 00:00:00',\n",
      " '2018-12-29 00:00:00', '2018-12-30 00:00:00', '2018-12-28 00:00:00',\n",
      " '2018-12-25 00:00:00', '2018-11-14 00:00:00', '2018-08-17 00:00:00',\n",
      " '2018-12-05 00:00:00',\n",
      " ...\n",
      " '2018-01-30 00:00:00', '2018-01-31 00:00:00', '2018-02-12 00:00:00',\n",
      " '2018-02-07 00:00:00', '2018-02-06 00:00:00', '2018-02-14 00:00:00',\n",
      " '2018-02-18 00:00:00', '2018-01-19 00:00:00', '2018-01-29 00:00:00',\n",
      " '2018-01-24 00:00:00']\n",
      "Length: 351, dtype: datetime64[ns]\n"
     ]
    }
   ],
   "source": [
    "# Valores Unicos Messages\n",
    "print(df_messages['message_date'].unique())"
   ]
  },
  {
   "cell_type": "code",
   "execution_count": 11,
   "metadata": {},
   "outputs": [
    {
     "name": "stdout",
     "output_type": "stream",
     "text": [
      "[  50 1000]\n",
      "[15360 30720]\n",
      "[ 500 3000]\n",
      "[20 70]\n",
      "[10  7]\n",
      "[0.03 0.01]\n",
      "[0.03 0.01]\n",
      "['surf' 'ultimate']\n"
     ]
    }
   ],
   "source": [
    "# Valores Unicos Plans\n",
    "print(df_plans['messages_included'].unique())\n",
    "print(df_plans['mb_per_month_included'].unique())\n",
    "print(df_plans['minutes_included'].unique())\n",
    "print(df_plans['usd_monthly_pay'].unique())\n",
    "print(df_plans['usd_per_gb'].unique())\n",
    "print(df_plans['usd_per_message'].unique())\n",
    "print(df_plans['usd_per_minute'].unique())\n",
    "print(df_plans['plan_name'].unique())"
   ]
  },
  {
   "cell_type": "code",
   "execution_count": 12,
   "metadata": {},
   "outputs": [
    {
     "name": "stdout",
     "output_type": "stream",
     "text": [
      "['Atlanta-Sandy Springs-Roswell, GA MSA' 'Seattle-Tacoma-Bellevue, WA MSA'\n",
      " 'Las Vegas-Henderson-Paradise, NV MSA' 'Tulsa, OK MSA'\n",
      " 'Dallas-Fort Worth-Arlington, TX MSA'\n",
      " 'San Francisco-Oakland-Berkeley, CA MSA' 'Grand Rapids-Kentwood, MI MSA'\n",
      " 'Orlando-Kissimmee-Sanford, FL MSA'\n",
      " 'San Jose-Sunnyvale-Santa Clara, CA MSA' 'Cleveland-Elyria, OH MSA'\n",
      " 'Chicago-Naperville-Elgin, IL-IN-WI MSA' 'Knoxville, TN MSA'\n",
      " 'New York-Newark-Jersey City, NY-NJ-PA MSA' 'Pittsburgh, PA MSA'\n",
      " 'Fresno, CA MSA' 'Washington-Arlington-Alexandria, DC-VA-MD-WV MSA'\n",
      " 'Indianapolis-Carmel-Anderson, IN MSA' 'Jacksonville, FL MSA'\n",
      " 'Los Angeles-Long Beach-Anaheim, CA MSA'\n",
      " 'Omaha-Council Bluffs, NE-IA MSA'\n",
      " 'Houston-The Woodlands-Sugar Land, TX MSA'\n",
      " 'Philadelphia-Camden-Wilmington, PA-NJ-DE-MD MSA'\n",
      " 'Tampa-St. Petersburg-Clearwater, FL MSA' 'Birmingham-Hoover, AL MSA'\n",
      " 'Oklahoma City, OK MSA' 'Charlotte-Concord-Gastonia, NC-SC MSA'\n",
      " 'Denver-Aurora-Lakewood, CO MSA'\n",
      " 'Nashville-Davidson–Murfreesboro–Franklin, TN MSA' 'Columbus, OH MSA'\n",
      " 'Albuquerque, NM MSA' 'Boston-Cambridge-Newton, MA-NH MSA'\n",
      " 'Miami-Fort Lauderdale-West Palm Beach, FL MSA'\n",
      " 'San Diego-Chula Vista-Carlsbad, CA MSA' 'Phoenix-Mesa-Chandler, AZ MSA'\n",
      " 'Portland-Vancouver-Hillsboro, OR-WA MSA' 'Cincinnati, OH-KY-IN MSA'\n",
      " 'Columbia, SC MSA' 'San Antonio-New Braunfels, TX MSA'\n",
      " 'Buffalo-Cheektowaga, NY MSA' 'Memphis, TN-MS-AR MSA'\n",
      " 'Riverside-San Bernardino-Ontario, CA MSA'\n",
      " 'Louisville/Jefferson County, KY-IN MSA'\n",
      " 'Albany-Schenectady-Troy, NY MSA' 'Providence-Warwick, RI-MA MSA'\n",
      " 'Salt Lake City, UT MSA' 'Urban Honolulu, HI MSA' 'El Paso, TX MSA'\n",
      " 'New Haven-Milford, CT MSA' 'North Port-Sarasota-Bradenton, FL MSA'\n",
      " 'Baton Rouge, LA MSA' 'New Orleans-Metairie, LA MSA'\n",
      " 'Bridgeport-Stamford-Norwalk, CT MSA'\n",
      " 'Virginia Beach-Norfolk-Newport News, VA-NC MSA'\n",
      " 'Baltimore-Columbia-Towson, MD MSA' 'Milwaukee-Waukesha, WI MSA'\n",
      " 'Oxnard-Thousand Oaks-Ventura, CA MSA'\n",
      " 'Sacramento–Roseville–Folsom, CA MSA'\n",
      " 'Austin-Round Rock-Georgetown, TX MSA' 'Richmond, VA MSA'\n",
      " 'St. Louis, MO-IL MSA' 'Minneapolis-St. Paul-Bloomington, MN-WI MSA'\n",
      " 'Dayton-Kettering, OH MSA' 'Bakersfield, CA MSA'\n",
      " 'Detroit-Warren-Dearborn, MI MSA' 'Kansas City, MO-KS MSA'\n",
      " 'Charleston-North Charleston, SC MSA' 'Rochester, NY MSA'\n",
      " 'Raleigh-Cary, NC MSA' 'Colorado Springs, CO MSA'\n",
      " 'Greensboro-High Point, NC MSA' 'Tucson, AZ MSA' 'Stockton, CA MSA'\n",
      " 'Cape Coral-Fort Myers, FL MSA']\n",
      "['2018-12-24' '2018-08-13' '2018-10-21' '2018-01-28' '2018-05-23'\n",
      " '2018-11-29' '2018-11-27' '2018-07-11' '2018-08-03' '2018-04-22'\n",
      " '2018-03-09' '2018-01-18' '2018-06-28' '2018-12-01' '2018-11-25'\n",
      " '2018-12-05' '2018-10-25' '2018-08-26' '2018-10-17' '2018-01-16'\n",
      " '2018-11-08' '2018-12-21' '2018-04-20' '2018-07-06' '2018-08-21'\n",
      " '2018-10-28' '2018-07-20' '2018-06-26' '2018-02-21' '2018-01-05'\n",
      " '2018-02-14' '2018-07-15' '2018-06-07' '2018-05-30' '2018-12-08'\n",
      " '2018-05-09' '2018-08-11' '2018-06-25' '2018-12-23' '2018-03-17'\n",
      " '2018-01-15' '2018-06-20' '2018-08-30' '2018-10-15' '2018-02-19'\n",
      " '2018-06-16' '2018-08-24' '2018-03-20' '2018-12-11' '2018-03-05'\n",
      " '2018-07-30' '2018-04-21' '2018-01-13' '2018-03-01' '2018-08-07'\n",
      " '2018-11-06' '2018-04-07' '2018-03-08' '2018-02-06' '2018-11-05'\n",
      " '2018-06-03' '2018-09-24' '2018-01-29' '2018-09-17' '2018-05-12'\n",
      " '2018-07-12' '2018-04-06' '2018-11-26' '2018-08-06' '2018-07-29'\n",
      " '2018-01-14' '2018-02-11' '2018-01-26' '2018-04-27' '2018-04-15'\n",
      " '2018-10-26' '2018-06-04' '2018-07-19' '2018-11-18' '2018-05-27'\n",
      " '2018-09-03' '2018-05-04' '2018-12-10' '2018-12-17' '2018-10-30'\n",
      " '2018-12-22' '2018-02-26' '2018-08-14' '2018-02-13' '2018-02-08'\n",
      " '2018-02-20' '2018-07-01' '2018-01-08' '2018-05-10' '2018-11-15'\n",
      " '2018-12-30' '2018-02-16' '2018-10-08' '2018-07-21' '2018-11-19'\n",
      " '2018-08-08' '2018-01-24' '2018-10-05' '2018-04-03' '2018-03-13'\n",
      " '2018-03-04' '2018-04-19' '2018-08-16' '2018-06-02' '2018-06-23'\n",
      " '2018-01-25' '2018-11-10' '2018-05-17' '2018-01-07' '2018-04-14'\n",
      " '2018-10-14' '2018-10-02' '2018-03-26' '2018-08-23' '2018-04-12'\n",
      " '2018-10-13' '2018-04-30' '2018-11-04' '2018-03-03' '2018-09-19'\n",
      " '2018-11-01' '2018-06-19' '2018-07-18' '2018-03-25' '2018-07-02'\n",
      " '2018-11-30' '2018-02-05' '2018-01-12' '2018-02-17' '2018-10-27'\n",
      " '2018-05-07' '2018-12-13' '2018-12-06' '2018-09-25' '2018-01-27'\n",
      " '2018-03-30' '2018-09-28' '2018-09-30' '2018-10-03' '2018-11-09'\n",
      " '2018-04-13' '2018-05-29' '2018-03-07' '2018-01-10' '2018-08-01'\n",
      " '2018-01-21' '2018-07-07' '2018-05-31' '2018-06-09' '2018-05-01'\n",
      " '2018-08-20' '2018-04-05' '2018-07-09' '2018-07-17' '2018-08-28'\n",
      " '2018-06-01' '2018-06-30' '2018-07-27' '2018-01-01' '2018-05-14'\n",
      " '2018-06-27' '2018-07-05' '2018-03-15' '2018-01-17' '2018-12-09'\n",
      " '2018-02-27' '2018-01-19' '2018-09-11' '2018-09-12' '2018-04-04'\n",
      " '2018-03-18' '2018-08-27' '2018-05-11' '2018-01-09' '2018-06-10'\n",
      " '2018-08-18' '2018-03-16' '2018-12-02' '2018-02-22' '2018-02-09'\n",
      " '2018-03-06' '2018-05-03' '2018-11-23' '2018-03-12' '2018-09-13'\n",
      " '2018-09-18' '2018-06-24' '2018-08-04' '2018-02-02' '2018-11-03'\n",
      " '2018-07-23' '2018-09-07' '2018-12-07' '2018-11-12' '2018-09-14'\n",
      " '2018-10-20' '2018-08-25' '2018-09-21' '2018-01-04' '2018-05-08'\n",
      " '2018-12-31' '2018-11-22' '2018-07-04' '2018-05-24' '2018-04-26'\n",
      " '2018-05-21' '2018-11-11' '2018-09-29' '2018-06-17' '2018-02-23'\n",
      " '2018-06-18' '2018-02-10' '2018-11-24' '2018-03-11' '2018-08-09'\n",
      " '2018-12-25' '2018-10-01' '2018-09-05' '2018-09-08' '2018-03-27'\n",
      " '2018-10-07' '2018-05-16' '2018-09-20' '2018-05-20' '2018-10-06'\n",
      " '2018-04-16' '2018-10-18' '2018-09-04' '2018-06-22' '2018-10-10'\n",
      " '2018-04-11' '2018-05-25' '2018-03-28' '2018-05-06' '2018-10-29'\n",
      " '2018-10-22' '2018-06-06' '2018-06-11' '2018-01-11' '2018-10-04'\n",
      " '2018-08-10' '2018-04-08' '2018-03-29' '2018-05-18' '2018-10-16'\n",
      " '2018-07-24' '2018-10-23' '2018-08-29' '2018-06-15' '2018-09-10'\n",
      " '2018-02-15' '2018-12-29' '2018-05-28' '2018-11-07' '2018-01-31'\n",
      " '2018-04-10' '2018-12-27' '2018-04-25' '2018-05-15' '2018-01-20'\n",
      " '2018-02-04']\n",
      "['ultimate' 'surf']\n",
      "<DatetimeArray>\n",
      "[                'NaT', '2018-12-18 00:00:00', '2018-11-16 00:00:00',\n",
      " '2018-09-07 00:00:00', '2018-12-30 00:00:00', '2018-10-07 00:00:00',\n",
      " '2018-12-31 00:00:00', '2018-11-24 00:00:00', '2018-11-11 00:00:00',\n",
      " '2018-12-12 00:00:00', '2018-11-14 00:00:00', '2018-12-27 00:00:00',\n",
      " '2018-11-29 00:00:00', '2018-12-22 00:00:00', '2018-11-30 00:00:00',\n",
      " '2018-10-13 00:00:00', '2018-07-31 00:00:00', '2018-12-15 00:00:00',\n",
      " '2018-12-19 00:00:00', '2018-10-03 00:00:00', '2018-10-22 00:00:00',\n",
      " '2018-08-16 00:00:00', '2018-12-26 00:00:00', '2018-09-01 00:00:00',\n",
      " '2018-11-21 00:00:00', '2018-08-19 00:00:00', '2018-12-10 00:00:00',\n",
      " '2018-09-17 00:00:00', '2018-11-18 00:00:00', '2018-09-18 00:00:00']\n",
      "Length: 30, dtype: datetime64[ns]\n"
     ]
    }
   ],
   "source": [
    "# Valores Unicos Users\n",
    "print(df_users['city'].unique())\n",
    "print(df_users['reg_date'].unique())\n",
    "print(df_users['plan'].unique())\n",
    "print(df_users['churn_date'].unique())\n"
   ]
  },
  {
   "cell_type": "markdown",
   "metadata": {},
   "source": [
    "## Visualizaciones básicas"
   ]
  },
  {
   "cell_type": "code",
   "execution_count": 13,
   "metadata": {},
   "outputs": [],
   "source": [
    "# Costo total \n",
    "df_calls['cost'] = df_calls['duration'] * df_plans['usd_per_minute']\n",
    "df_internet['cost'] = df_internet['mb_used'] * (df_plans['usd_per_gb']/1000)\n",
    "df_messages['cost'] = df_plans['usd_per_message']"
   ]
  },
  {
   "cell_type": "code",
   "execution_count": 24,
   "metadata": {},
   "outputs": [
    {
     "name": "stdout",
     "output_type": "stream",
     "text": [
      "Calls\n",
      "Internet\n",
      "Messages\n"
     ]
    },
    {
     "data": {
      "text/plain": [
       "0        0.03\n",
       "1        0.01\n",
       "2         NaN\n",
       "3         NaN\n",
       "4         NaN\n",
       "         ... \n",
       "76046     NaN\n",
       "76047     NaN\n",
       "76048     NaN\n",
       "76049     NaN\n",
       "76050     NaN\n",
       "Name: cost, Length: 76051, dtype: float64"
      ]
     },
     "execution_count": 24,
     "metadata": {},
     "output_type": "execute_result"
    }
   ],
   "source": [
    "print(\"Calls\")\n",
    "df_calls['cost']\n",
    "print(\"Internet\")\n",
    "df_internet['cost']\n",
    "print(\"Messages\")\n",
    "df_messages['cost']"
   ]
  },
  {
   "cell_type": "markdown",
   "metadata": {},
   "source": [
    "# Calls"
   ]
  },
  {
   "cell_type": "code",
   "execution_count": 36,
   "metadata": {},
   "outputs": [
    {
     "data": {
      "text/plain": [
       "<Axes: >"
      ]
     },
     "execution_count": 36,
     "metadata": {},
     "output_type": "execute_result"
    },
    {
     "data": {
      "image/png": "[encoded data removed]",
      "text/plain": [
       "<Figure size 640x480 with 1 Axes>"
      ]
     },
     "metadata": {},
     "output_type": "display_data"
    }
   ],
   "source": [
    "# Histograma Call_Date\n",
    "df_calls['call_date'].hist()"
   ]
  },
  {
   "cell_type": "code",
   "execution_count": 29,
   "metadata": {},
   "outputs": [
    {
     "data": {
      "text/plain": [
       "<Axes: >"
      ]
     },
     "execution_count": 29,
     "metadata": {},
     "output_type": "execute_result"
    },
    {
     "data": {
      "image/png": "[encoded data removed]",
      "text/plain": [
       "<Figure size 640x480 with 1 Axes>"
      ]
     },
     "metadata": {},
     "output_type": "display_data"
    }
   ],
   "source": [
    "# Boxplot Call_Date\n",
    "df_calls.boxplot(column='duration')"
   ]
  },
  {
   "cell_type": "code",
   "execution_count": 30,
   "metadata": {},
   "outputs": [
    {
     "data": {
      "text/plain": [
       "<Axes: >"
      ]
     },
     "execution_count": 30,
     "metadata": {},
     "output_type": "execute_result"
    },
    {
     "data": {
      "image/png": "[encoded data removed]",
      "text/plain": [
       "<Figure size 640x480 with 1 Axes>"
      ]
     },
     "metadata": {},
     "output_type": "display_data"
    }
   ],
   "source": [
    "# Histograma Call_Date\n",
    "df_calls['duration'].hist()"
   ]
  },
  {
   "cell_type": "markdown",
   "metadata": {},
   "source": [
    "# Internet"
   ]
  },
  {
   "cell_type": "code",
   "execution_count": 16,
   "metadata": {},
   "outputs": [
    {
     "data": {
      "text/plain": [
       "<Axes: >"
      ]
     },
     "execution_count": 16,
     "metadata": {},
     "output_type": "execute_result"
    },
    {
     "data": {
      "image/png": "[encoded data removed]",
      "text/plain": [
       "<Figure size 640x480 with 1 Axes>"
      ]
     },
     "metadata": {},
     "output_type": "display_data"
    }
   ],
   "source": [
    "# Histograma Session_Date\n",
    "df_internet['session_date'].hist()"
   ]
  },
  {
   "cell_type": "code",
   "execution_count": 32,
   "metadata": {},
   "outputs": [
    {
     "data": {
      "text/plain": [
       "<Axes: >"
      ]
     },
     "execution_count": 32,
     "metadata": {},
     "output_type": "execute_result"
    },
    {
     "data": {
      "image/png": "[encoded data removed]",
      "text/plain": [
       "<Figure size 640x480 with 1 Axes>"
      ]
     },
     "metadata": {},
     "output_type": "display_data"
    }
   ],
   "source": [
    "# Histograma MB_Used\n",
    "df_internet['mb_used'].hist()\n"
   ]
  },
  {
   "cell_type": "code",
   "execution_count": 33,
   "metadata": {},
   "outputs": [
    {
     "data": {
      "text/plain": [
       "<Axes: >"
      ]
     },
     "execution_count": 33,
     "metadata": {},
     "output_type": "execute_result"
    },
    {
     "data": {
      "image/png": "[encoded data removed]",
      "text/plain": [
       "<Figure size 640x480 with 1 Axes>"
      ]
     },
     "metadata": {},
     "output_type": "display_data"
    }
   ],
   "source": [
    "# Boxplot MB_Used\n",
    "df_internet.boxplot(column='mb_used')"
   ]
  },
  {
   "cell_type": "markdown",
   "metadata": {},
   "source": [
    "# Messages"
   ]
  },
  {
   "cell_type": "code",
   "execution_count": 18,
   "metadata": {},
   "outputs": [
    {
     "data": {
      "text/plain": [
       "<Axes: >"
      ]
     },
     "execution_count": 18,
     "metadata": {},
     "output_type": "execute_result"
    },
    {
     "data": {
      "image/png": "[encoded data removed]",
      "text/plain": [
       "<Figure size 640x480 with 1 Axes>"
      ]
     },
     "metadata": {},
     "output_type": "display_data"
    }
   ],
   "source": [
    "# Histograma Message_Date\n",
    "df_messages['message_date'].hist()"
   ]
  },
  {
   "cell_type": "markdown",
   "metadata": {},
   "source": [
    "# Users"
   ]
  },
  {
   "cell_type": "code",
   "execution_count": 19,
   "metadata": {},
   "outputs": [
    {
     "data": {
      "text/plain": [
       "<Axes: >"
      ]
     },
     "execution_count": 19,
     "metadata": {},
     "output_type": "execute_result"
    },
    {
     "data": {
      "image/png": "[encoded data removed]",
      "text/plain": [
       "<Figure size 640x480 with 1 Axes>"
      ]
     },
     "metadata": {},
     "output_type": "display_data"
    }
   ],
   "source": [
    "# Histograma age\n",
    "df_users['age'].hist()"
   ]
  },
  {
   "cell_type": "code",
   "execution_count": 34,
   "metadata": {},
   "outputs": [
    {
     "data": {
      "text/plain": [
       "<Axes: >"
      ]
     },
     "execution_count": 34,
     "metadata": {},
     "output_type": "execute_result"
    },
    {
     "data": {
      "image/png": "[encoded data removed]",
      "text/plain": [
       "<Figure size 640x480 with 1 Axes>"
      ]
     },
     "metadata": {},
     "output_type": "display_data"
    }
   ],
   "source": [
    "# Boxplot age\n",
    "df_users.boxplot(column='age')"
   ]
  },
  {
   "cell_type": "code",
   "execution_count": 20,
   "metadata": {},
   "outputs": [
    {
     "data": {
      "text/plain": [
       "<Axes: >"
      ]
     },
     "execution_count": 20,
     "metadata": {},
     "output_type": "execute_result"
    },
    {
     "data": {
      "image/png": "[encoded data removed]",
      "text/plain": [
       "<Figure size 640x480 with 1 Axes>"
      ]
     },
     "metadata": {},
     "output_type": "display_data"
    }
   ],
   "source": [
    "# Histograma plan\n",
    "df_users['plan'].hist()"
   ]
  },
  {
   "cell_type": "code",
   "execution_count": 21,
   "metadata": {},
   "outputs": [
    {
     "data": {
      "text/plain": [
       "<Axes: >"
      ]
     },
     "execution_count": 21,
     "metadata": {},
     "output_type": "execute_result"
    },
    {
     "data": {
      "image/png": "[encoded data removed]",
      "text/plain": [
       "<Figure size 640x480 with 1 Axes>"
      ]
     },
     "metadata": {},
     "output_type": "display_data"
    }
   ],
   "source": [
    "# Histograma churn_date\n",
    "df_users['churn_date'].hist()"
   ]
  }
 ],
 "metadata": {
  "kernelspec": {
   "display_name": "dataMining",
   "language": "python",
   "name": "python3"
  },
  "language_info": {
   "codemirror_mode": {
    "name": "ipython",
    "version": 3
   },
   "file_extension": ".py",
   "mimetype": "text/x-python",
   "name": "python",
   "nbconvert_exporter": "python",
   "pygments_lexer": "ipython3",
   "version": "3.9.21"
  }
 },
 "nbformat": 4,
 "nbformat_minor": 2
}
