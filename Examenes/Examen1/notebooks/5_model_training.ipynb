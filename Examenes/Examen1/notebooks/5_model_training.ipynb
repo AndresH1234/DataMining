{
 "cells": [
  {
   "cell_type": "markdown",
   "metadata": {},
   "source": [
    "### Training"
   ]
  },
  {
   "cell_type": "code",
   "execution_count": 12,
   "metadata": {},
   "outputs": [],
   "source": [
    "import pandas as pd"
   ]
  },
  {
   "cell_type": "code",
   "execution_count": 13,
   "metadata": {},
   "outputs": [],
   "source": [
    "from sklearn.linear_model import LinearRegression, Ridge\n",
    "from sklearn.metrics import mean_squared_error, mean_absolute_error, r2_score\n",
    "from sklearn.model_selection import train_test_split\n",
    "from sklearn.preprocessing import StandardScaler\n"
   ]
  },
  {
   "cell_type": "code",
   "execution_count": 14,
   "metadata": {},
   "outputs": [],
   "source": [
    "# Read the data from the CSV file\n",
    "data = pd.read_csv(\"../data/ml/final.csv\")"
   ]
  },
  {
   "cell_type": "code",
   "execution_count": 15,
   "metadata": {},
   "outputs": [
    {
     "data": {
      "text/plain": [
       "Index(['user_id', 'month', 'duration', 'costo_extra_llamadas', 'mb_used',\n",
       "       'costo_extra_datos', 'sms_count', 'costo_extra_sms', 'usd_monthly_pay',\n",
       "       'age', 'costo_total'],\n",
       "      dtype='object')"
      ]
     },
     "execution_count": 15,
     "metadata": {},
     "output_type": "execute_result"
    }
   ],
   "source": [
    "data.columns"
   ]
  },
  {
   "cell_type": "code",
   "execution_count": 16,
   "metadata": {},
   "outputs": [],
   "source": [
    "# Crear los lags\n",
    "data['lag_costo_extra_llamadas_1'] = data['costo_extra_llamadas'].shift(1)\n",
    "data['lag_costo_extra_llamadas_2'] = data['costo_extra_llamadas'].shift(2)\n",
    "data['lag_costo_extra_llamadas_3'] = data['costo_extra_llamadas'].shift(3)\n",
    "\n",
    "\n",
    "data['lag_costo_extra_datos_1'] = data['costo_extra_datos'].shift(1)\n",
    "data['lag_costo_extra_datos_2'] = data['costo_extra_datos'].shift(2)\n",
    "data['lag_costo_extra_datos_3'] = data['costo_extra_datos'].shift(3)\n",
    "\n",
    "\n",
    "data['lag_costo_extra_sms_1'] = data['costo_extra_sms'].shift(1)\n",
    "data['lag_costo_extra_sms_2'] = data['costo_extra_sms'].shift(2)\n",
    "data['lag_costo_extra_sms_3'] = data['costo_extra_sms'].shift(3)\n",
    "\n",
    "\n",
    "# Eliminar valores nulos creados por los shifts\n",
    "data.dropna(subset=['lag_costo_extra_llamadas_1', 'lag_costo_extra_llamadas_2', 'lag_costo_extra_llamadas_3',\n",
    "                    'lag_costo_extra_datos_1', 'lag_costo_extra_datos_2', 'lag_costo_extra_datos_3',\n",
    "                    'lag_costo_extra_sms_1', 'lag_costo_extra_sms_2', 'lag_costo_extra_sms_3',], inplace=True)"
   ]
  },
  {
   "cell_type": "code",
   "execution_count": 17,
   "metadata": {},
   "outputs": [],
   "source": [
    "# Actualizar X e y con los nuevos lags\n",
    "X = data[['month','duration', 'mb_used',\n",
    "           'sms_count', 'usd_monthly_pay', 'age', \n",
    "          'lag_costo_extra_llamadas_1', 'lag_costo_extra_llamadas_2',\n",
    "          'lag_costo_extra_datos_1', 'lag_costo_extra_datos_2',\n",
    "          'lag_costo_extra_sms_1', 'lag_costo_extra_sms_2',]]\n",
    "y = data['costo_total']"
   ]
  },
  {
   "cell_type": "code",
   "execution_count": 18,
   "metadata": {},
   "outputs": [],
   "source": [
    "# Escalar las características numéricas\n",
    "scaler = StandardScaler()\n",
    "X_scaled = scaler.fit_transform(X)\n",
    "X_train, X_test, y_train, y_test = train_test_split(X, y, test_size=0.2, random_state=42)\n"
   ]
  },
  {
   "cell_type": "markdown",
   "metadata": {},
   "source": [
    "## Regresión Lineal"
   ]
  },
  {
   "cell_type": "code",
   "execution_count": 19,
   "metadata": {},
   "outputs": [],
   "source": [
    "model_ridge = Ridge(alpha=2.0)\n",
    "model_ridge.fit(X_train, y_train)\n",
    "\n",
    "# Predecimos\n",
    "y_pred = model_ridge.predict(X_test)\n"
   ]
  },
  {
   "cell_type": "code",
   "execution_count": 20,
   "metadata": {},
   "outputs": [
    {
     "name": "stdout",
     "output_type": "stream",
     "text": [
      "Mean Squared Error (MSE): 638.8203373305718\n",
      "Mean Absolute Error (MAE): 19.282674229951404\n",
      "R-squared (R²): 0.6426311432461458\n"
     ]
    }
   ],
   "source": [
    "regresion_mse = mean_squared_error(y_test, y_pred)\n",
    "regresion_mae = mean_absolute_error(y_test, y_pred)\n",
    "regresion_r2 = r2_score(y_test, y_pred)\n",
    "\n",
    "print(f'Mean Squared Error (MSE): {regresion_mse}')\n",
    "print(f'Mean Absolute Error (MAE): {regresion_mae}')\n",
    "print(f'R-squared (R²): {regresion_r2}')\n"
   ]
  },
  {
   "cell_type": "code",
   "execution_count": 23,
   "metadata": {},
   "outputs": [
    {
     "name": "stdout",
     "output_type": "stream",
     "text": [
      "[-0.08487015 -0.00882139  0.00407523 -0.05655453  0.41915638  0.03192869\n",
      "  0.31291931  0.31116883  0.13613461  0.10097539  2.96029513  0.46866786]\n"
     ]
    }
   ],
   "source": [
    "# Coeficientes\n",
    "print(model_ridge.coef_)"
   ]
  },
  {
   "cell_type": "markdown",
   "metadata": {},
   "source": [
    "Se puede ver que lo que más suma al costo final es el sobre paso de mensajes sms.\n",
    "Por otra parte, vemos que algunos valores no aportan mucho al costo total.  Algunos restan el costo total"
   ]
  },
  {
   "cell_type": "markdown",
   "metadata": {},
   "source": [
    "## Gradient Descent"
   ]
  },
  {
   "cell_type": "code",
   "execution_count": 21,
   "metadata": {},
   "outputs": [
    {
     "name": "stdout",
     "output_type": "stream",
     "text": [
      "Optimal parameters: [60.46056029 -0.23253764 -1.42326266 30.68426363 -1.06121708  9.5280586\n",
      "  0.50378922  1.03440452  0.52810554  7.24845595  4.0622146   0.50518361\n",
      "  0.10842979]\n"
     ]
    }
   ],
   "source": [
    "import numpy as np\n",
    "\n",
    "\n",
    "# Convertir X e y a matrices y vectores de NumPy si no lo son\n",
    "X = X.values\n",
    "y = y.values\n",
    "\n",
    "# Normalizar las características (X)\n",
    "scaler = StandardScaler()\n",
    "X = scaler.fit_transform(X)\n",
    "# Definir la función de costo (Mean Squared Error)\n",
    "def cost_function(X, y, theta):\n",
    "    m = len(y)\n",
    "    predictions = X.dot(theta)\n",
    "    cost = (1 / (2 * m)) * np.sum((predictions - y) ** 2)\n",
    "    return cost\n",
    "\n",
    "# Implementar Gradient Descent\n",
    "def gradient_descent(X, y, theta, learning_rate, iterations):\n",
    "    m = len(y)\n",
    "    cost_history = []\n",
    "\n",
    "    for i in range(iterations):\n",
    "        gradients = (1 / m) * X.T.dot(X.dot(theta) - y)\n",
    "        theta = theta - learning_rate * gradients\n",
    "        cost_history.append(cost_function(X, y, theta))\n",
    "    \n",
    "    return theta, cost_history\n",
    "\n",
    "# Agregar un término de sesgo a X\n",
    "X_b = np.c_[np.ones((len(X), 1)), X]\n",
    "\n",
    "# Inicializar parámetros\n",
    "theta_initial = np.zeros(X_b.shape[1])\n",
    "learning_rate = 0.01\n",
    "iterations = 1000\n",
    "\n",
    "# Ejecutar Gradient Descent\n",
    "theta_optimal, cost_history = gradient_descent(X_b, y, theta_initial, learning_rate, iterations)\n",
    "\n",
    "print(f\"Optimal parameters: {theta_optimal}\")\n"
   ]
  },
  {
   "cell_type": "markdown",
   "metadata": {},
   "source": [
    "## Stochastic Gradient Descent"
   ]
  },
  {
   "cell_type": "code",
   "execution_count": 22,
   "metadata": {},
   "outputs": [
    {
     "name": "stdout",
     "output_type": "stream",
     "text": [
      "Optimal parameters (SGD): [60.12573562  1.14712319  0.98121607 35.81743476 -4.00042607  2.28104565\n",
      " -4.44631066  3.25021609 -1.49754111 12.40785707  3.87583293 -4.62178717\n",
      "  3.12033621]\n"
     ]
    }
   ],
   "source": [
    "def stochastic_gradient_descent(X, y, theta, learning_rate, iterations):\n",
    "    m = len(y)\n",
    "    cost_history = []\n",
    "\n",
    "    for i in range(iterations):\n",
    "        for j in range(m):\n",
    "            random_index = np.random.randint(m)\n",
    "            xi = X[random_index:random_index+1]\n",
    "            yi = y[random_index:random_index+1]\n",
    "            gradients = xi.T.dot(xi.dot(theta) - yi)\n",
    "            theta = theta - learning_rate * gradients\n",
    "        cost_history.append(cost_function(X, y, theta))\n",
    "    \n",
    "    return theta, cost_history\n",
    "\n",
    "# Ejecutar Stochastic Gradient Descent\n",
    "theta_optimal_sgd, cost_history_sgd = stochastic_gradient_descent(X_b, y, theta_initial, learning_rate, iterations)\n",
    "\n",
    "print(f\"Optimal parameters (SGD): {theta_optimal_sgd}\")\n"
   ]
  }
 ],
 "metadata": {
  "kernelspec": {
   "display_name": "dataMining",
   "language": "python",
   "name": "python3"
  },
  "language_info": {
   "codemirror_mode": {
    "name": "ipython",
    "version": 3
   },
   "file_extension": ".py",
   "mimetype": "text/x-python",
   "name": "python",
   "nbconvert_exporter": "python",
   "pygments_lexer": "ipython3",
   "version": "3.9.21"
  }
 },
 "nbformat": 4,
 "nbformat_minor": 2
}
