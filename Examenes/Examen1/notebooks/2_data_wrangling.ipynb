{
 "cells": [
  {
   "cell_type": "markdown",
   "metadata": {},
   "source": [
    "### Data Wrangling"
   ]
  },
  {
   "cell_type": "code",
   "execution_count": 489,
   "metadata": {},
   "outputs": [],
   "source": [
    "from scipy.stats import zscore\n",
    "import pandas as pd\n",
    "import matplotlib.pyplot as plt"
   ]
  },
  {
   "cell_type": "code",
   "execution_count": 490,
   "metadata": {},
   "outputs": [],
   "source": [
    "# Cargar el archivo CSV\n",
    "df_calls = pd.read_csv(\"../data/raw/megaline_calls.csv\")\n",
    "df_internet = pd.read_csv(\"../data/raw/megaline_internet.csv\")\n",
    "df_messages = pd.read_csv(\"../data/raw/megaline_messages.csv\")\n",
    "df_plans = pd.read_csv(\"../data/raw/megaline_plans.csv\")\n",
    "df_users = pd.read_csv(\"../data/raw/megaline_users.csv\")"
   ]
  },
  {
   "cell_type": "code",
   "execution_count": 491,
   "metadata": {},
   "outputs": [],
   "source": [
    "# Pasar Dates a datetime\n",
    "df_calls[\"call_date\"] = pd.to_datetime(df_calls[\"call_date\"])\n",
    "df_internet[\"session_date\"] = pd.to_datetime(df_internet[\"session_date\"])\n",
    "df_messages[\"message_date\"] = pd.to_datetime(df_messages[\"message_date\"])\n",
    "df_users[\"reg_date\"] = pd.to_datetime(df_users[\"reg_date\"])\n",
    "df_users[\"churn_date\"] = pd.to_datetime(df_users[\"churn_date\"])"
   ]
  },
  {
   "cell_type": "markdown",
   "metadata": {},
   "source": [
    "## Valores Nulos"
   ]
  },
  {
   "cell_type": "markdown",
   "metadata": {},
   "source": [
    "# Calls"
   ]
  },
  {
   "cell_type": "code",
   "execution_count": 492,
   "metadata": {},
   "outputs": [
    {
     "data": {
      "text/plain": [
       "id           0\n",
       "user_id      0\n",
       "call_date    0\n",
       "duration     0\n",
       "dtype: int64"
      ]
     },
     "execution_count": 492,
     "metadata": {},
     "output_type": "execute_result"
    }
   ],
   "source": [
    "# Ver los nulos de Calls\n",
    "df_calls.isnull().sum()"
   ]
  },
  {
   "cell_type": "markdown",
   "metadata": {},
   "source": [
    "# Internet"
   ]
  },
  {
   "cell_type": "code",
   "execution_count": 493,
   "metadata": {},
   "outputs": [
    {
     "data": {
      "text/plain": [
       "id              0\n",
       "user_id         0\n",
       "session_date    0\n",
       "mb_used         0\n",
       "dtype: int64"
      ]
     },
     "execution_count": 493,
     "metadata": {},
     "output_type": "execute_result"
    }
   ],
   "source": [
    "# Ver los nulos de Internet\n",
    "df_internet.isnull().sum()"
   ]
  },
  {
   "cell_type": "markdown",
   "metadata": {},
   "source": [
    "# Messages"
   ]
  },
  {
   "cell_type": "code",
   "execution_count": 494,
   "metadata": {},
   "outputs": [
    {
     "data": {
      "text/plain": [
       "id              0\n",
       "user_id         0\n",
       "message_date    0\n",
       "dtype: int64"
      ]
     },
     "execution_count": 494,
     "metadata": {},
     "output_type": "execute_result"
    }
   ],
   "source": [
    "# Ver los nulos de Messages\n",
    "df_messages.isnull().sum()"
   ]
  },
  {
   "cell_type": "markdown",
   "metadata": {},
   "source": [
    "# Plans"
   ]
  },
  {
   "cell_type": "code",
   "execution_count": 495,
   "metadata": {},
   "outputs": [
    {
     "data": {
      "text/plain": [
       "messages_included        0\n",
       "mb_per_month_included    0\n",
       "minutes_included         0\n",
       "usd_monthly_pay          0\n",
       "usd_per_gb               0\n",
       "usd_per_message          0\n",
       "usd_per_minute           0\n",
       "plan_name                0\n",
       "dtype: int64"
      ]
     },
     "execution_count": 495,
     "metadata": {},
     "output_type": "execute_result"
    }
   ],
   "source": [
    "# Ver los nulos de plans\n",
    "df_plans.isnull().sum()\n"
   ]
  },
  {
   "cell_type": "markdown",
   "metadata": {},
   "source": [
    "# Users"
   ]
  },
  {
   "cell_type": "code",
   "execution_count": 496,
   "metadata": {},
   "outputs": [
    {
     "data": {
      "text/plain": [
       "user_id         0\n",
       "first_name      0\n",
       "last_name       0\n",
       "age             0\n",
       "city            0\n",
       "reg_date        0\n",
       "plan            0\n",
       "churn_date    466\n",
       "dtype: int64"
      ]
     },
     "execution_count": 496,
     "metadata": {},
     "output_type": "execute_result"
    }
   ],
   "source": [
    "# Ver los nulos de Users\n",
    "df_users.isnull().sum()"
   ]
  },
  {
   "cell_type": "code",
   "execution_count": 497,
   "metadata": {},
   "outputs": [
    {
     "data": {
      "text/plain": [
       "<DatetimeArray>\n",
       "[                'NaT', '2018-12-18 00:00:00', '2018-11-16 00:00:00',\n",
       " '2018-09-07 00:00:00', '2018-12-30 00:00:00', '2018-10-07 00:00:00',\n",
       " '2018-12-31 00:00:00', '2018-11-24 00:00:00', '2018-11-11 00:00:00',\n",
       " '2018-12-12 00:00:00', '2018-11-14 00:00:00', '2018-12-27 00:00:00',\n",
       " '2018-11-29 00:00:00', '2018-12-22 00:00:00', '2018-11-30 00:00:00',\n",
       " '2018-10-13 00:00:00', '2018-07-31 00:00:00', '2018-12-15 00:00:00',\n",
       " '2018-12-19 00:00:00', '2018-10-03 00:00:00', '2018-10-22 00:00:00',\n",
       " '2018-08-16 00:00:00', '2018-12-26 00:00:00', '2018-09-01 00:00:00',\n",
       " '2018-11-21 00:00:00', '2018-08-19 00:00:00', '2018-12-10 00:00:00',\n",
       " '2018-09-17 00:00:00', '2018-11-18 00:00:00', '2018-09-18 00:00:00']\n",
       "Length: 30, dtype: datetime64[ns]"
      ]
     },
     "execution_count": 497,
     "metadata": {},
     "output_type": "execute_result"
    }
   ],
   "source": [
    "df_users[\"churn_date\"].unique()"
   ]
  },
  {
   "cell_type": "code",
   "execution_count": 498,
   "metadata": {},
   "outputs": [],
   "source": [
    "# Reeemplazar los nulos de churn_date por 9999-12-31\n",
    "df_users[\"churn_date\"] = df_users[\"churn_date\"].fillna(\"9999-12-31\")"
   ]
  },
  {
   "cell_type": "code",
   "execution_count": 499,
   "metadata": {},
   "outputs": [
    {
     "data": {
      "text/plain": [
       "user_id       0\n",
       "first_name    0\n",
       "last_name     0\n",
       "age           0\n",
       "city          0\n",
       "reg_date      0\n",
       "plan          0\n",
       "churn_date    0\n",
       "dtype: int64"
      ]
     },
     "execution_count": 499,
     "metadata": {},
     "output_type": "execute_result"
    }
   ],
   "source": [
    "# Ver los nulos de Users\n",
    "df_users.isnull().sum()"
   ]
  },
  {
   "cell_type": "markdown",
   "metadata": {},
   "source": [
    "## Outliers"
   ]
  },
  {
   "cell_type": "markdown",
   "metadata": {},
   "source": [
    "# Calls"
   ]
  },
  {
   "cell_type": "code",
   "execution_count": 500,
   "metadata": {},
   "outputs": [
    {
     "data": {
      "image/png": "[encoded data removed]",
      "text/plain": [
       "<Figure size 640x480 with 1 Axes>"
      ]
     },
     "metadata": {},
     "output_type": "display_data"
    }
   ],
   "source": [
    "# Boxplot de Calls\n",
    "df_calls.boxplot(column=['duration'])\n",
    "plt.show()"
   ]
  },
  {
   "cell_type": "code",
   "execution_count": 501,
   "metadata": {},
   "outputs": [
    {
     "name": "stdout",
     "output_type": "stream",
     "text": [
      "0.5 22.439999999999998\n",
      "30887\n"
     ]
    }
   ],
   "source": [
    "Q1 = df_calls['duration'].quantile(0.25)\n",
    "Q3 = df_calls['duration'].quantile(0.75)\n",
    "IQR = Q3 - Q1\n",
    "\n",
    "lower_bound = 0.5\n",
    "upper_bound = Q3 + 1.25 * IQR\n",
    "\n",
    "print(lower_bound, upper_bound)\n",
    "\n",
    "outliers_calls = df_calls[(df_calls['duration'] < lower_bound) | (df_calls['duration'] > upper_bound)]\n",
    "print(len(outliers_calls))"
   ]
  },
  {
   "cell_type": "code",
   "execution_count": 502,
   "metadata": {},
   "outputs": [
    {
     "data": {
      "text/plain": [
       "user_id\n",
       "1077    282\n",
       "1324    272\n",
       "1362    271\n",
       "1334    261\n",
       "1240    255\n",
       "       ... \n",
       "1339      2\n",
       "1323      1\n",
       "1034      1\n",
       "1481      1\n",
       "1306      1\n",
       "Name: count, Length: 479, dtype: int64"
      ]
     },
     "execution_count": 502,
     "metadata": {},
     "output_type": "execute_result"
    }
   ],
   "source": [
    "outliers_calls['user_id'].value_counts()"
   ]
  },
  {
   "cell_type": "code",
   "execution_count": 503,
   "metadata": {},
   "outputs": [],
   "source": [
    "df_calls = df_calls[(df_calls['duration'] >= lower_bound) & (df_calls['duration'] <= upper_bound)]"
   ]
  },
  {
   "cell_type": "code",
   "execution_count": 504,
   "metadata": {},
   "outputs": [
    {
     "data": {
      "image/png": "[encoded data removed]",
      "text/plain": [
       "<Figure size 640x480 with 1 Axes>"
      ]
     },
     "metadata": {},
     "output_type": "display_data"
    }
   ],
   "source": [
    "# Boxplot de Calls\n",
    "df_calls.boxplot(column=['duration'])\n",
    "plt.show()"
   ]
  },
  {
   "cell_type": "markdown",
   "metadata": {},
   "source": [
    "# Internet"
   ]
  },
  {
   "cell_type": "code",
   "execution_count": 505,
   "metadata": {},
   "outputs": [
    {
     "data": {
      "image/png": "[encoded data removed]",
      "text/plain": [
       "<Figure size 640x480 with 1 Axes>"
      ]
     },
     "metadata": {},
     "output_type": "display_data"
    }
   ],
   "source": [
    "# Boxplot de Internet\n",
    "df_internet.boxplot(column=['mb_used'])\n",
    "plt.show()"
   ]
  },
  {
   "cell_type": "code",
   "execution_count": 506,
   "metadata": {},
   "outputs": [
    {
     "name": "stdout",
     "output_type": "stream",
     "text": [
      "0 1182.405\n",
      "424\n"
     ]
    }
   ],
   "source": [
    "Q1 = df_internet['mb_used'].quantile(0.25)\n",
    "Q3 = df_internet['mb_used'].quantile(0.75)\n",
    "IQR = Q3 - Q1\n",
    "\n",
    "lower_bound = 0\n",
    "upper_bound = Q3 + 1.5 * IQR\n",
    "\n",
    "print(lower_bound, upper_bound)\n",
    "\n",
    "outliers_internet = df_internet[(df_internet['mb_used'] < lower_bound) | (df_internet['mb_used'] > upper_bound)]\n",
    "print(len(outliers_internet))"
   ]
  },
  {
   "cell_type": "code",
   "execution_count": 507,
   "metadata": {},
   "outputs": [],
   "source": [
    "df_internet = df_internet[(df_internet['mb_used'] >= lower_bound) & (df_internet['mb_used'] <= upper_bound)]"
   ]
  },
  {
   "cell_type": "code",
   "execution_count": 508,
   "metadata": {},
   "outputs": [
    {
     "data": {
      "image/png": "[encoded data removed]",
      "text/plain": [
       "<Figure size 640x480 with 1 Axes>"
      ]
     },
     "metadata": {},
     "output_type": "display_data"
    }
   ],
   "source": [
    "# Boxplot de Internet\n",
    "df_internet.boxplot(column=['mb_used'])\n",
    "plt.show()"
   ]
  },
  {
   "cell_type": "markdown",
   "metadata": {},
   "source": [
    "# Messages"
   ]
  },
  {
   "cell_type": "code",
   "execution_count": 509,
   "metadata": {},
   "outputs": [
    {
     "name": "stdout",
     "output_type": "stream",
     "text": [
      "     user_id  sms_count   z_score\n",
      "59      1077        804  3.202701\n",
      "107     1132       1288  5.723945\n",
      "259     1324       1175  5.135308\n",
      "262     1328       1233  5.437440\n",
      "379     1470       1056  4.515415\n"
     ]
    }
   ],
   "source": [
    "from scipy.stats import zscore\n",
    "\n",
    "# Contar SMS por usuario\n",
    "df_sms_count = df_messages.groupby('user_id').size().reset_index(name='sms_count')\n",
    "\n",
    "# Aplicar Z-score\n",
    "df_sms_count['z_score'] = zscore(df_sms_count['sms_count'])\n",
    "\n",
    "# Filtrar outliers (Z-score mayor a 3 o menor a -3)\n",
    "outliers_sms = df_sms_count[df_sms_count['z_score'].abs() > 3]\n",
    "print(outliers_sms)"
   ]
  },
  {
   "cell_type": "code",
   "execution_count": 510,
   "metadata": {},
   "outputs": [],
   "source": [
    "df_messages = df_messages[~df_messages['user_id'].isin(outliers_sms['user_id'])]"
   ]
  },
  {
   "cell_type": "markdown",
   "metadata": {},
   "source": [
    "## Duplicados"
   ]
  },
  {
   "cell_type": "code",
   "execution_count": 511,
   "metadata": {},
   "outputs": [
    {
     "name": "stdout",
     "output_type": "stream",
     "text": [
      "Calls  0\n",
      "Internet  0\n",
      "Messages  0\n",
      "Plans  0\n",
      "Users  0\n"
     ]
    }
   ],
   "source": [
    "# Ver los duplicados \n",
    "print(\"Calls \", df_calls.duplicated().sum())\n",
    "print(\"Internet \", df_internet.duplicated().sum())\n",
    "print(\"Messages \", df_messages.duplicated().sum())\n",
    "print(\"Plans \", df_plans.duplicated().sum())\n",
    "print(\"Users \", df_users.duplicated().sum())"
   ]
  },
  {
   "cell_type": "code",
   "execution_count": 512,
   "metadata": {},
   "outputs": [],
   "source": [
    "# Pasa a csv \n",
    "df_calls.to_csv(\"../data/clean/calls.csv\", index=False)\n",
    "df_internet.to_csv(\"../data/clean/internet.csv\", index=False)\n",
    "df_messages.to_csv(\"../data/clean/messages.csv\", index=False)\n",
    "df_plans.to_csv(\"../data/clean/plans.csv\", index=False)\n",
    "df_users.to_csv(\"../data/clean/users.csv\", index=False)"
   ]
  }
 ],
 "metadata": {
  "kernelspec": {
   "display_name": "dataMining",
   "language": "python",
   "name": "python3"
  },
  "language_info": {
   "codemirror_mode": {
    "name": "ipython",
    "version": 3
   },
   "file_extension": ".py",
   "mimetype": "text/x-python",
   "name": "python",
   "nbconvert_exporter": "python",
   "pygments_lexer": "ipython3",
   "version": "3.9.21"
  }
 },
 "nbformat": 4,
 "nbformat_minor": 2
}
