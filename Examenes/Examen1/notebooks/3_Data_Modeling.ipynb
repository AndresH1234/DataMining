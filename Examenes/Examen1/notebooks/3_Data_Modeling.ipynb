{
 "cells": [
  {
   "cell_type": "markdown",
   "metadata": {},
   "source": [
    "### Data Modeling"
   ]
  },
  {
   "cell_type": "markdown",
   "metadata": {},
   "source": [
    "Se creara una tabla de hechos 'Final' con sus diferentes dimensiones\n",
    "---\n",
    "Final\n",
    "   Column                Non-Null Count  Dtype  \n",
    " 0   user_id               2293 non-null   int64  \n",
    " 1   month                 2293 non-null   int32  \n",
    " 2   duration              2293 non-null   float64\n",
    " 3   costo_extra_llamadas  2293 non-null   float64\n",
    " 4   mb_used               2293 non-null   float64\n",
    " 5   costo_extra_datos     2293 non-null   float64\n",
    " 6   sms_count             2293 non-null   float64\n",
    " 7   costo_extra_sms       2293 non-null   float64\n",
    " 8   usd_monthly_pay       2293 non-null   int64  \n",
    " 9   costo_total           2293 non-null   float64"
   ]
  },
  {
   "cell_type": "markdown",
   "metadata": {},
   "source": []
  }
 ],
 "metadata": {
  "language_info": {
   "name": "python"
  }
 },
 "nbformat": 4,
 "nbformat_minor": 2
}
