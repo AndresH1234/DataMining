{
 "cells": [
  {
   "cell_type": "markdown",
   "metadata": {},
   "source": [
    "En conclusiones, puedo decir que los datos dieron un overfitting y después quitamos los valores de costos y se dejaron los lags de costos. El error aumenta y se hacer un underfitting. Una solución que se me ocurre sería crear 12 lags para simular un año y predecir basado en un año.\n",
    "\n",
    "Por otra parte, algún dato hacía que exista un overflow.\n",
    "\n",
    "Se puede ver la interpreteación de los coeficientes en 5_model_training.ipynb"
   ]
  }
 ],
 "metadata": {
  "language_info": {
   "name": "python"
  }
 },
 "nbformat": 4,
 "nbformat_minor": 2
}
